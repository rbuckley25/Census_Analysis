{
 "metadata": {
  "language_info": {
   "codemirror_mode": {
    "name": "ipython",
    "version": 3
   },
   "file_extension": ".py",
   "mimetype": "text/x-python",
   "name": "python",
   "nbconvert_exporter": "python",
   "pygments_lexer": "ipython3",
   "version": "3.7.11-final"
  },
  "orig_nbformat": 2,
  "kernelspec": {
   "name": "python371164bitpy37condaa099b6920158455fa3ddbea3d840cf7f",
   "display_name": "Python 3.7.11 64-bit ('py37': conda)"
  }
 },
 "nbformat": 4,
 "nbformat_minor": 2,
 "cells": [
  {
   "cell_type": "markdown",
   "metadata": {},
   "source": [
    "## Import Python Libraries"
   ]
  },
  {
   "cell_type": "code",
   "execution_count": 3,
   "metadata": {},
   "outputs": [],
   "source": [
    "import numpy as np\n",
    "import pandas as pd \n",
    "from sklearn.model_selection import train_test_split\n",
    "from sklearn.tree import DecisionTreeClassifier\n",
    "from sklearn.ensemble import RandomForestClassifier\n",
    "from sklearn.naive_bayes import GaussianNB\n",
    "from sklearn.naive_bayes import MultinomialNB\n",
    "\n",
    "from sklearn.impute import SimpleImputer\n",
    "from sklearn.preprocessing import MinMaxScaler\n",
    "from sklearn.impute import KNNImputer\n",
    "from sklearn.preprocessing import OneHotEncoder\n",
    "from sklearn.preprocessing import LabelEncoder\n",
    "from sklearn.linear_model import LogisticRegression\n",
    "from sklearn.model_selection import permutation_test_score\n",
    "from sklearn.model_selection import StratifiedKFold\n",
    "from sklearn.metrics import accuracy_score\n",
    "from sklearn.metrics import average_precision_score\n",
    "\n",
    "from pgmpy.models import BayesianNetwork\n",
    "from pgmpy.estimators import HillClimbSearch\n",
    "from pgmpy.estimators import K2Score"
   ]
  },
  {
   "cell_type": "markdown",
   "metadata": {},
   "source": [
    "## Read in Data and Inital Exploration"
   ]
  },
  {
   "cell_type": "code",
   "execution_count": 4,
   "metadata": {},
   "outputs": [
    {
     "output_type": "execute_result",
     "data": {
      "text/plain": "(32561, 15)"
     },
     "metadata": {},
     "execution_count": 4
    }
   ],
   "source": [
    "org_data = pd.read_csv('./adult.csv', header=0)\n",
    "org_data.shape"
   ]
  },
  {
   "cell_type": "code",
   "execution_count": 5,
   "metadata": {},
   "outputs": [
    {
     "output_type": "execute_result",
     "data": {
      "text/plain": "   age workclass  fnlwgt     education  education.num marital.status  \\\n0   90         ?   77053       HS-grad              9        Widowed   \n1   82   Private  132870       HS-grad              9        Widowed   \n2   66         ?  186061  Some-college             10        Widowed   \n3   54   Private  140359       7th-8th              4       Divorced   \n4   41   Private  264663  Some-college             10      Separated   \n\n          occupation   relationship   race     sex  capital.gain  \\\n0                  ?  Not-in-family  White  Female             0   \n1    Exec-managerial  Not-in-family  White  Female             0   \n2                  ?      Unmarried  Black  Female             0   \n3  Machine-op-inspct      Unmarried  White  Female             0   \n4     Prof-specialty      Own-child  White  Female             0   \n\n   capital.loss  hours.per.week native.country income  \n0          4356              40  United-States  <=50K  \n1          4356              18  United-States  <=50K  \n2          4356              40  United-States  <=50K  \n3          3900              40  United-States  <=50K  \n4          3900              40  United-States  <=50K  ",
      "text/html": "<div>\n<style scoped>\n    .dataframe tbody tr th:only-of-type {\n        vertical-align: middle;\n    }\n\n    .dataframe tbody tr th {\n        vertical-align: top;\n    }\n\n    .dataframe thead th {\n        text-align: right;\n    }\n</style>\n<table border=\"1\" class=\"dataframe\">\n  <thead>\n    <tr style=\"text-align: right;\">\n      <th></th>\n      <th>age</th>\n      <th>workclass</th>\n      <th>fnlwgt</th>\n      <th>education</th>\n      <th>education.num</th>\n      <th>marital.status</th>\n      <th>occupation</th>\n      <th>relationship</th>\n      <th>race</th>\n      <th>sex</th>\n      <th>capital.gain</th>\n      <th>capital.loss</th>\n      <th>hours.per.week</th>\n      <th>native.country</th>\n      <th>income</th>\n    </tr>\n  </thead>\n  <tbody>\n    <tr>\n      <th>0</th>\n      <td>90</td>\n      <td>?</td>\n      <td>77053</td>\n      <td>HS-grad</td>\n      <td>9</td>\n      <td>Widowed</td>\n      <td>?</td>\n      <td>Not-in-family</td>\n      <td>White</td>\n      <td>Female</td>\n      <td>0</td>\n      <td>4356</td>\n      <td>40</td>\n      <td>United-States</td>\n      <td>&lt;=50K</td>\n    </tr>\n    <tr>\n      <th>1</th>\n      <td>82</td>\n      <td>Private</td>\n      <td>132870</td>\n      <td>HS-grad</td>\n      <td>9</td>\n      <td>Widowed</td>\n      <td>Exec-managerial</td>\n      <td>Not-in-family</td>\n      <td>White</td>\n      <td>Female</td>\n      <td>0</td>\n      <td>4356</td>\n      <td>18</td>\n      <td>United-States</td>\n      <td>&lt;=50K</td>\n    </tr>\n    <tr>\n      <th>2</th>\n      <td>66</td>\n      <td>?</td>\n      <td>186061</td>\n      <td>Some-college</td>\n      <td>10</td>\n      <td>Widowed</td>\n      <td>?</td>\n      <td>Unmarried</td>\n      <td>Black</td>\n      <td>Female</td>\n      <td>0</td>\n      <td>4356</td>\n      <td>40</td>\n      <td>United-States</td>\n      <td>&lt;=50K</td>\n    </tr>\n    <tr>\n      <th>3</th>\n      <td>54</td>\n      <td>Private</td>\n      <td>140359</td>\n      <td>7th-8th</td>\n      <td>4</td>\n      <td>Divorced</td>\n      <td>Machine-op-inspct</td>\n      <td>Unmarried</td>\n      <td>White</td>\n      <td>Female</td>\n      <td>0</td>\n      <td>3900</td>\n      <td>40</td>\n      <td>United-States</td>\n      <td>&lt;=50K</td>\n    </tr>\n    <tr>\n      <th>4</th>\n      <td>41</td>\n      <td>Private</td>\n      <td>264663</td>\n      <td>Some-college</td>\n      <td>10</td>\n      <td>Separated</td>\n      <td>Prof-specialty</td>\n      <td>Own-child</td>\n      <td>White</td>\n      <td>Female</td>\n      <td>0</td>\n      <td>3900</td>\n      <td>40</td>\n      <td>United-States</td>\n      <td>&lt;=50K</td>\n    </tr>\n  </tbody>\n</table>\n</div>"
     },
     "metadata": {},
     "execution_count": 5
    }
   ],
   "source": [
    "org_data.head()"
   ]
  },
  {
   "cell_type": "code",
   "execution_count": 6,
   "metadata": {},
   "outputs": [
    {
     "output_type": "execute_result",
     "data": {
      "text/plain": "age                  73\nworkclass             9\nfnlwgt            21648\neducation            16\neducation.num        16\nmarital.status        7\noccupation           15\nrelationship          6\nrace                  5\nsex                   2\ncapital.gain        119\ncapital.loss         92\nhours.per.week       94\nnative.country       42\nincome                2\ndtype: int64"
     },
     "metadata": {},
     "execution_count": 6
    }
   ],
   "source": [
    "org_data.nunique()"
   ]
  },
  {
   "cell_type": "code",
   "execution_count": 7,
   "metadata": {},
   "outputs": [
    {
     "output_type": "execute_result",
     "data": {
      "text/plain": "Prof-specialty       4140\nCraft-repair         4099\nExec-managerial      4066\nAdm-clerical         3770\nSales                3650\nOther-service        3295\nMachine-op-inspct    2002\n?                    1843\nTransport-moving     1597\nHandlers-cleaners    1370\nFarming-fishing       994\nTech-support          928\nProtective-serv       649\nPriv-house-serv       149\nArmed-Forces            9\nName: occupation, dtype: int64"
     },
     "metadata": {},
     "execution_count": 7
    }
   ],
   "source": [
    "org_data['occupation'].value_counts()"
   ]
  },
  {
   "cell_type": "markdown",
   "metadata": {
    "tags": []
   },
   "source": [
    "Inital Notes:\n",
    " - No null values but '?' instead which will need to be converted\n",
    " - education.num appears to just be a ordinal numeric encoding of the eduction feature, can probably drop one of the columns\n",
    " - from the description of fnlwgt feature provided, it appears that similar fnlwgt values should indicate simliar socio-economic characteristics but because this is      based on state by state samples this only holds where comparing across the same states. This may cause issues ??\n",
    " - Different categorical features are going to require different encodings, native. country should probably be encoded using some form of geographical location to represetn distance but in this case Onehotencoding will do. "
   ]
  },
  {
   "cell_type": "code",
   "execution_count": 8,
   "metadata": {},
   "outputs": [],
   "source": [
    "# replace ? with nan"
   ]
  },
  {
   "cell_type": "code",
   "execution_count": 9,
   "metadata": {},
   "outputs": [],
   "source": [
    "org_data[org_data == \"?\"] = np.nan"
   ]
  },
  {
   "cell_type": "code",
   "execution_count": 10,
   "metadata": {},
   "outputs": [
    {
     "output_type": "execute_result",
     "data": {
      "text/plain": "age                  0\nworkclass         1836\nfnlwgt               0\neducation            0\neducation.num        0\nmarital.status       0\noccupation        1843\nrelationship         0\nrace                 0\nsex                  0\ncapital.gain         0\ncapital.loss         0\nhours.per.week       0\nnative.country     583\nincome               0\ndtype: int64"
     },
     "metadata": {},
     "execution_count": 10
    }
   ],
   "source": [
    "org_data.isnull().sum()"
   ]
  },
  {
   "cell_type": "markdown",
   "metadata": {},
   "source": [
    "Data has missing values in 'workclass', 'occupation', 'native.country' all of which appear to be categorical data "
   ]
  },
  {
   "cell_type": "code",
   "execution_count": 11,
   "metadata": {},
   "outputs": [],
   "source": [
    "missing_columns = ['workclass','occupation','native.country']"
   ]
  },
  {
   "cell_type": "code",
   "execution_count": 12,
   "metadata": {
    "tags": []
   },
   "outputs": [
    {
     "output_type": "stream",
     "name": "stdout",
     "text": "<class 'pandas.core.frame.DataFrame'>\nRangeIndex: 32561 entries, 0 to 32560\nData columns (total 15 columns):\n #   Column          Non-Null Count  Dtype \n---  ------          --------------  ----- \n 0   age             32561 non-null  int64 \n 1   workclass       30725 non-null  object\n 2   fnlwgt          32561 non-null  int64 \n 3   education       32561 non-null  object\n 4   education.num   32561 non-null  int64 \n 5   marital.status  32561 non-null  object\n 6   occupation      30718 non-null  object\n 7   relationship    32561 non-null  object\n 8   race            32561 non-null  object\n 9   sex             32561 non-null  object\n 10  capital.gain    32561 non-null  int64 \n 11  capital.loss    32561 non-null  int64 \n 12  hours.per.week  32561 non-null  int64 \n 13  native.country  31978 non-null  object\n 14  income          32561 non-null  object\ndtypes: int64(6), object(9)\nmemory usage: 3.7+ MB\n"
    }
   ],
   "source": [
    "org_data.info()"
   ]
  },
  {
   "cell_type": "code",
   "execution_count": 13,
   "metadata": {},
   "outputs": [
    {
     "output_type": "execute_result",
     "data": {
      "text/plain": "                age        fnlwgt  education.num  capital.gain  capital.loss  \\\ncount  32561.000000  3.256100e+04   32561.000000  32561.000000  32561.000000   \nmean      38.581647  1.897784e+05      10.080679   1077.648844     87.303830   \nstd       13.640433  1.055500e+05       2.572720   7385.292085    402.960219   \nmin       17.000000  1.228500e+04       1.000000      0.000000      0.000000   \n25%       28.000000  1.178270e+05       9.000000      0.000000      0.000000   \n50%       37.000000  1.783560e+05      10.000000      0.000000      0.000000   \n75%       48.000000  2.370510e+05      12.000000      0.000000      0.000000   \nmax       90.000000  1.484705e+06      16.000000  99999.000000   4356.000000   \n\n       hours.per.week  \ncount    32561.000000  \nmean        40.437456  \nstd         12.347429  \nmin          1.000000  \n25%         40.000000  \n50%         40.000000  \n75%         45.000000  \nmax         99.000000  ",
      "text/html": "<div>\n<style scoped>\n    .dataframe tbody tr th:only-of-type {\n        vertical-align: middle;\n    }\n\n    .dataframe tbody tr th {\n        vertical-align: top;\n    }\n\n    .dataframe thead th {\n        text-align: right;\n    }\n</style>\n<table border=\"1\" class=\"dataframe\">\n  <thead>\n    <tr style=\"text-align: right;\">\n      <th></th>\n      <th>age</th>\n      <th>fnlwgt</th>\n      <th>education.num</th>\n      <th>capital.gain</th>\n      <th>capital.loss</th>\n      <th>hours.per.week</th>\n    </tr>\n  </thead>\n  <tbody>\n    <tr>\n      <th>count</th>\n      <td>32561.000000</td>\n      <td>3.256100e+04</td>\n      <td>32561.000000</td>\n      <td>32561.000000</td>\n      <td>32561.000000</td>\n      <td>32561.000000</td>\n    </tr>\n    <tr>\n      <th>mean</th>\n      <td>38.581647</td>\n      <td>1.897784e+05</td>\n      <td>10.080679</td>\n      <td>1077.648844</td>\n      <td>87.303830</td>\n      <td>40.437456</td>\n    </tr>\n    <tr>\n      <th>std</th>\n      <td>13.640433</td>\n      <td>1.055500e+05</td>\n      <td>2.572720</td>\n      <td>7385.292085</td>\n      <td>402.960219</td>\n      <td>12.347429</td>\n    </tr>\n    <tr>\n      <th>min</th>\n      <td>17.000000</td>\n      <td>1.228500e+04</td>\n      <td>1.000000</td>\n      <td>0.000000</td>\n      <td>0.000000</td>\n      <td>1.000000</td>\n    </tr>\n    <tr>\n      <th>25%</th>\n      <td>28.000000</td>\n      <td>1.178270e+05</td>\n      <td>9.000000</td>\n      <td>0.000000</td>\n      <td>0.000000</td>\n      <td>40.000000</td>\n    </tr>\n    <tr>\n      <th>50%</th>\n      <td>37.000000</td>\n      <td>1.783560e+05</td>\n      <td>10.000000</td>\n      <td>0.000000</td>\n      <td>0.000000</td>\n      <td>40.000000</td>\n    </tr>\n    <tr>\n      <th>75%</th>\n      <td>48.000000</td>\n      <td>2.370510e+05</td>\n      <td>12.000000</td>\n      <td>0.000000</td>\n      <td>0.000000</td>\n      <td>45.000000</td>\n    </tr>\n    <tr>\n      <th>max</th>\n      <td>90.000000</td>\n      <td>1.484705e+06</td>\n      <td>16.000000</td>\n      <td>99999.000000</td>\n      <td>4356.000000</td>\n      <td>99.000000</td>\n    </tr>\n  </tbody>\n</table>\n</div>"
     },
     "metadata": {},
     "execution_count": 13
    }
   ],
   "source": [
    "org_data.describe()"
   ]
  },
  {
   "cell_type": "code",
   "execution_count": 14,
   "metadata": {},
   "outputs": [],
   "source": [
    "#remove education and keep education number and remove fnlweight as we don't know where it comes from\n",
    "\n",
    "org_data = org_data.drop(['education','fnlwgt'], axis=1)"
   ]
  },
  {
   "cell_type": "markdown",
   "metadata": {},
   "source": [
    "## Mean Imputation"
   ]
  },
  {
   "cell_type": "code",
   "execution_count": 15,
   "metadata": {},
   "outputs": [],
   "source": [
    "mean_data = org_data.copy()"
   ]
  },
  {
   "cell_type": "code",
   "execution_count": 16,
   "metadata": {},
   "outputs": [
    {
     "output_type": "execute_result",
     "data": {
      "text/plain": "SimpleImputer(add_indicator=False, copy=True, fill_value=None,\n              missing_values=nan, strategy='most_frequent', verbose=0)"
     },
     "metadata": {},
     "execution_count": 16
    }
   ],
   "source": [
    "mean_imputer = SimpleImputer(missing_values=np.nan, strategy='most_frequent')\n",
    "mean_imputer.fit(mean_data[missing_columns])"
   ]
  },
  {
   "cell_type": "code",
   "execution_count": 17,
   "metadata": {},
   "outputs": [],
   "source": [
    "mean_data[missing_columns] = mean_imputer.transform(mean_data[missing_columns])"
   ]
  },
  {
   "cell_type": "code",
   "execution_count": 18,
   "metadata": {},
   "outputs": [
    {
     "output_type": "execute_result",
     "data": {
      "text/plain": "age               0\nworkclass         0\neducation.num     0\nmarital.status    0\noccupation        0\nrelationship      0\nrace              0\nsex               0\ncapital.gain      0\ncapital.loss      0\nhours.per.week    0\nnative.country    0\nincome            0\ndtype: int64"
     },
     "metadata": {},
     "execution_count": 18
    }
   ],
   "source": [
    "mean_data.isnull().sum()"
   ]
  },
  {
   "cell_type": "code",
   "execution_count": 19,
   "metadata": {},
   "outputs": [
    {
     "output_type": "execute_result",
     "data": {
      "text/plain": "       age workclass  education.num      marital.status         occupation  \\\n0       90   Private              9             Widowed     Prof-specialty   \n1       82   Private              9             Widowed    Exec-managerial   \n2       66   Private             10             Widowed     Prof-specialty   \n3       54   Private              4            Divorced  Machine-op-inspct   \n4       41   Private             10           Separated     Prof-specialty   \n...    ...       ...            ...                 ...                ...   \n32556   22   Private             10       Never-married    Protective-serv   \n32557   27   Private             12  Married-civ-spouse       Tech-support   \n32558   40   Private              9  Married-civ-spouse  Machine-op-inspct   \n32559   58   Private              9             Widowed       Adm-clerical   \n32560   22   Private              9       Never-married       Adm-clerical   \n\n        relationship   race     sex  capital.gain  capital.loss  \\\n0      Not-in-family  White  Female             0          4356   \n1      Not-in-family  White  Female             0          4356   \n2          Unmarried  Black  Female             0          4356   \n3          Unmarried  White  Female             0          3900   \n4          Own-child  White  Female             0          3900   \n...              ...    ...     ...           ...           ...   \n32556  Not-in-family  White    Male             0             0   \n32557           Wife  White  Female             0             0   \n32558        Husband  White    Male             0             0   \n32559      Unmarried  White  Female             0             0   \n32560      Own-child  White    Male             0             0   \n\n       hours.per.week native.country income  \n0                  40  United-States  <=50K  \n1                  18  United-States  <=50K  \n2                  40  United-States  <=50K  \n3                  40  United-States  <=50K  \n4                  40  United-States  <=50K  \n...               ...            ...    ...  \n32556              40  United-States  <=50K  \n32557              38  United-States  <=50K  \n32558              40  United-States   >50K  \n32559              40  United-States  <=50K  \n32560              20  United-States  <=50K  \n\n[32561 rows x 13 columns]",
      "text/html": "<div>\n<style scoped>\n    .dataframe tbody tr th:only-of-type {\n        vertical-align: middle;\n    }\n\n    .dataframe tbody tr th {\n        vertical-align: top;\n    }\n\n    .dataframe thead th {\n        text-align: right;\n    }\n</style>\n<table border=\"1\" class=\"dataframe\">\n  <thead>\n    <tr style=\"text-align: right;\">\n      <th></th>\n      <th>age</th>\n      <th>workclass</th>\n      <th>education.num</th>\n      <th>marital.status</th>\n      <th>occupation</th>\n      <th>relationship</th>\n      <th>race</th>\n      <th>sex</th>\n      <th>capital.gain</th>\n      <th>capital.loss</th>\n      <th>hours.per.week</th>\n      <th>native.country</th>\n      <th>income</th>\n    </tr>\n  </thead>\n  <tbody>\n    <tr>\n      <th>0</th>\n      <td>90</td>\n      <td>Private</td>\n      <td>9</td>\n      <td>Widowed</td>\n      <td>Prof-specialty</td>\n      <td>Not-in-family</td>\n      <td>White</td>\n      <td>Female</td>\n      <td>0</td>\n      <td>4356</td>\n      <td>40</td>\n      <td>United-States</td>\n      <td>&lt;=50K</td>\n    </tr>\n    <tr>\n      <th>1</th>\n      <td>82</td>\n      <td>Private</td>\n      <td>9</td>\n      <td>Widowed</td>\n      <td>Exec-managerial</td>\n      <td>Not-in-family</td>\n      <td>White</td>\n      <td>Female</td>\n      <td>0</td>\n      <td>4356</td>\n      <td>18</td>\n      <td>United-States</td>\n      <td>&lt;=50K</td>\n    </tr>\n    <tr>\n      <th>2</th>\n      <td>66</td>\n      <td>Private</td>\n      <td>10</td>\n      <td>Widowed</td>\n      <td>Prof-specialty</td>\n      <td>Unmarried</td>\n      <td>Black</td>\n      <td>Female</td>\n      <td>0</td>\n      <td>4356</td>\n      <td>40</td>\n      <td>United-States</td>\n      <td>&lt;=50K</td>\n    </tr>\n    <tr>\n      <th>3</th>\n      <td>54</td>\n      <td>Private</td>\n      <td>4</td>\n      <td>Divorced</td>\n      <td>Machine-op-inspct</td>\n      <td>Unmarried</td>\n      <td>White</td>\n      <td>Female</td>\n      <td>0</td>\n      <td>3900</td>\n      <td>40</td>\n      <td>United-States</td>\n      <td>&lt;=50K</td>\n    </tr>\n    <tr>\n      <th>4</th>\n      <td>41</td>\n      <td>Private</td>\n      <td>10</td>\n      <td>Separated</td>\n      <td>Prof-specialty</td>\n      <td>Own-child</td>\n      <td>White</td>\n      <td>Female</td>\n      <td>0</td>\n      <td>3900</td>\n      <td>40</td>\n      <td>United-States</td>\n      <td>&lt;=50K</td>\n    </tr>\n    <tr>\n      <th>...</th>\n      <td>...</td>\n      <td>...</td>\n      <td>...</td>\n      <td>...</td>\n      <td>...</td>\n      <td>...</td>\n      <td>...</td>\n      <td>...</td>\n      <td>...</td>\n      <td>...</td>\n      <td>...</td>\n      <td>...</td>\n      <td>...</td>\n    </tr>\n    <tr>\n      <th>32556</th>\n      <td>22</td>\n      <td>Private</td>\n      <td>10</td>\n      <td>Never-married</td>\n      <td>Protective-serv</td>\n      <td>Not-in-family</td>\n      <td>White</td>\n      <td>Male</td>\n      <td>0</td>\n      <td>0</td>\n      <td>40</td>\n      <td>United-States</td>\n      <td>&lt;=50K</td>\n    </tr>\n    <tr>\n      <th>32557</th>\n      <td>27</td>\n      <td>Private</td>\n      <td>12</td>\n      <td>Married-civ-spouse</td>\n      <td>Tech-support</td>\n      <td>Wife</td>\n      <td>White</td>\n      <td>Female</td>\n      <td>0</td>\n      <td>0</td>\n      <td>38</td>\n      <td>United-States</td>\n      <td>&lt;=50K</td>\n    </tr>\n    <tr>\n      <th>32558</th>\n      <td>40</td>\n      <td>Private</td>\n      <td>9</td>\n      <td>Married-civ-spouse</td>\n      <td>Machine-op-inspct</td>\n      <td>Husband</td>\n      <td>White</td>\n      <td>Male</td>\n      <td>0</td>\n      <td>0</td>\n      <td>40</td>\n      <td>United-States</td>\n      <td>&gt;50K</td>\n    </tr>\n    <tr>\n      <th>32559</th>\n      <td>58</td>\n      <td>Private</td>\n      <td>9</td>\n      <td>Widowed</td>\n      <td>Adm-clerical</td>\n      <td>Unmarried</td>\n      <td>White</td>\n      <td>Female</td>\n      <td>0</td>\n      <td>0</td>\n      <td>40</td>\n      <td>United-States</td>\n      <td>&lt;=50K</td>\n    </tr>\n    <tr>\n      <th>32560</th>\n      <td>22</td>\n      <td>Private</td>\n      <td>9</td>\n      <td>Never-married</td>\n      <td>Adm-clerical</td>\n      <td>Own-child</td>\n      <td>White</td>\n      <td>Male</td>\n      <td>0</td>\n      <td>0</td>\n      <td>20</td>\n      <td>United-States</td>\n      <td>&lt;=50K</td>\n    </tr>\n  </tbody>\n</table>\n<p>32561 rows × 13 columns</p>\n</div>"
     },
     "metadata": {},
     "execution_count": 19
    }
   ],
   "source": [
    "mean_data"
   ]
  },
  {
   "cell_type": "code",
   "execution_count": 20,
   "metadata": {},
   "outputs": [],
   "source": [
    "M_cat_cols = ['marital.status','relationship','income','sex','race']"
   ]
  },
  {
   "cell_type": "code",
   "execution_count": 21,
   "metadata": {},
   "outputs": [],
   "source": [
    "M_OH_data = pd.get_dummies(mean_data[M_cat_cols], drop_first=True) # prevent dummy variable trap\n",
    "mean_data.drop(M_cat_cols, axis=1, inplace=True)\n",
    "for col in missing_columns:\n",
    "    le = LabelEncoder()\n",
    "    labeled_data = le.fit_transform(mean_data[col]) \n",
    "    mean_data[col] = labeled_data\n",
    "mean_data = pd.concat([mean_data,M_OH_data], axis=1)\n",
    "\n",
    "scaler = MinMaxScaler()\n",
    "scaled_data = scaler.fit_transform(mean_data)\n",
    "mean_data = pd.DataFrame(scaled_data, columns=mean_data.columns)"
   ]
  },
  {
   "cell_type": "code",
   "execution_count": 22,
   "metadata": {},
   "outputs": [
    {
     "output_type": "execute_result",
     "data": {
      "text/plain": "            age  workclass  education.num  occupation  capital.gain  \\\n0      1.000000   0.428571       0.533333    0.692308           0.0   \n1      0.890411   0.428571       0.533333    0.230769           0.0   \n2      0.671233   0.428571       0.600000    0.692308           0.0   \n3      0.506849   0.428571       0.200000    0.461538           0.0   \n4      0.328767   0.428571       0.600000    0.692308           0.0   \n...         ...        ...            ...         ...           ...   \n32556  0.068493   0.428571       0.600000    0.769231           0.0   \n32557  0.136986   0.428571       0.733333    0.923077           0.0   \n32558  0.315068   0.428571       0.533333    0.461538           0.0   \n32559  0.561644   0.428571       0.533333    0.000000           0.0   \n32560  0.068493   0.428571       0.533333    0.000000           0.0   \n\n       capital.loss  hours.per.week  native.country  \\\n0          1.000000        0.397959            0.95   \n1          1.000000        0.173469            0.95   \n2          1.000000        0.397959            0.95   \n3          0.895317        0.397959            0.95   \n4          0.895317        0.397959            0.95   \n...             ...             ...             ...   \n32556      0.000000        0.397959            0.95   \n32557      0.000000        0.377551            0.95   \n32558      0.000000        0.397959            0.95   \n32559      0.000000        0.397959            0.95   \n32560      0.000000        0.193878            0.95   \n\n       marital.status_Married-AF-spouse  marital.status_Married-civ-spouse  \\\n0                                   0.0                                0.0   \n1                                   0.0                                0.0   \n2                                   0.0                                0.0   \n3                                   0.0                                0.0   \n4                                   0.0                                0.0   \n...                                 ...                                ...   \n32556                               0.0                                0.0   \n32557                               0.0                                1.0   \n32558                               0.0                                1.0   \n32559                               0.0                                0.0   \n32560                               0.0                                0.0   \n\n       ...  relationship_Other-relative  relationship_Own-child  \\\n0      ...                          0.0                     0.0   \n1      ...                          0.0                     0.0   \n2      ...                          0.0                     0.0   \n3      ...                          0.0                     0.0   \n4      ...                          0.0                     1.0   \n...    ...                          ...                     ...   \n32556  ...                          0.0                     0.0   \n32557  ...                          0.0                     0.0   \n32558  ...                          0.0                     0.0   \n32559  ...                          0.0                     0.0   \n32560  ...                          0.0                     1.0   \n\n       relationship_Unmarried  relationship_Wife  income_>50K  sex_Male  \\\n0                         0.0                0.0          0.0       0.0   \n1                         0.0                0.0          0.0       0.0   \n2                         1.0                0.0          0.0       0.0   \n3                         1.0                0.0          0.0       0.0   \n4                         0.0                0.0          0.0       0.0   \n...                       ...                ...          ...       ...   \n32556                     0.0                0.0          0.0       1.0   \n32557                     0.0                1.0          0.0       0.0   \n32558                     0.0                0.0          1.0       1.0   \n32559                     1.0                0.0          0.0       0.0   \n32560                     0.0                0.0          0.0       1.0   \n\n       race_Asian-Pac-Islander  race_Black  race_Other  race_White  \n0                          0.0         0.0         0.0         1.0  \n1                          0.0         0.0         0.0         1.0  \n2                          0.0         1.0         0.0         0.0  \n3                          0.0         0.0         0.0         1.0  \n4                          0.0         0.0         0.0         1.0  \n...                        ...         ...         ...         ...  \n32556                      0.0         0.0         0.0         1.0  \n32557                      0.0         0.0         0.0         1.0  \n32558                      0.0         0.0         0.0         1.0  \n32559                      0.0         0.0         0.0         1.0  \n32560                      0.0         0.0         0.0         1.0  \n\n[32561 rows x 25 columns]",
      "text/html": "<div>\n<style scoped>\n    .dataframe tbody tr th:only-of-type {\n        vertical-align: middle;\n    }\n\n    .dataframe tbody tr th {\n        vertical-align: top;\n    }\n\n    .dataframe thead th {\n        text-align: right;\n    }\n</style>\n<table border=\"1\" class=\"dataframe\">\n  <thead>\n    <tr style=\"text-align: right;\">\n      <th></th>\n      <th>age</th>\n      <th>workclass</th>\n      <th>education.num</th>\n      <th>occupation</th>\n      <th>capital.gain</th>\n      <th>capital.loss</th>\n      <th>hours.per.week</th>\n      <th>native.country</th>\n      <th>marital.status_Married-AF-spouse</th>\n      <th>marital.status_Married-civ-spouse</th>\n      <th>...</th>\n      <th>relationship_Other-relative</th>\n      <th>relationship_Own-child</th>\n      <th>relationship_Unmarried</th>\n      <th>relationship_Wife</th>\n      <th>income_&gt;50K</th>\n      <th>sex_Male</th>\n      <th>race_Asian-Pac-Islander</th>\n      <th>race_Black</th>\n      <th>race_Other</th>\n      <th>race_White</th>\n    </tr>\n  </thead>\n  <tbody>\n    <tr>\n      <th>0</th>\n      <td>1.000000</td>\n      <td>0.428571</td>\n      <td>0.533333</td>\n      <td>0.692308</td>\n      <td>0.0</td>\n      <td>1.000000</td>\n      <td>0.397959</td>\n      <td>0.95</td>\n      <td>0.0</td>\n      <td>0.0</td>\n      <td>...</td>\n      <td>0.0</td>\n      <td>0.0</td>\n      <td>0.0</td>\n      <td>0.0</td>\n      <td>0.0</td>\n      <td>0.0</td>\n      <td>0.0</td>\n      <td>0.0</td>\n      <td>0.0</td>\n      <td>1.0</td>\n    </tr>\n    <tr>\n      <th>1</th>\n      <td>0.890411</td>\n      <td>0.428571</td>\n      <td>0.533333</td>\n      <td>0.230769</td>\n      <td>0.0</td>\n      <td>1.000000</td>\n      <td>0.173469</td>\n      <td>0.95</td>\n      <td>0.0</td>\n      <td>0.0</td>\n      <td>...</td>\n      <td>0.0</td>\n      <td>0.0</td>\n      <td>0.0</td>\n      <td>0.0</td>\n      <td>0.0</td>\n      <td>0.0</td>\n      <td>0.0</td>\n      <td>0.0</td>\n      <td>0.0</td>\n      <td>1.0</td>\n    </tr>\n    <tr>\n      <th>2</th>\n      <td>0.671233</td>\n      <td>0.428571</td>\n      <td>0.600000</td>\n      <td>0.692308</td>\n      <td>0.0</td>\n      <td>1.000000</td>\n      <td>0.397959</td>\n      <td>0.95</td>\n      <td>0.0</td>\n      <td>0.0</td>\n      <td>...</td>\n      <td>0.0</td>\n      <td>0.0</td>\n      <td>1.0</td>\n      <td>0.0</td>\n      <td>0.0</td>\n      <td>0.0</td>\n      <td>0.0</td>\n      <td>1.0</td>\n      <td>0.0</td>\n      <td>0.0</td>\n    </tr>\n    <tr>\n      <th>3</th>\n      <td>0.506849</td>\n      <td>0.428571</td>\n      <td>0.200000</td>\n      <td>0.461538</td>\n      <td>0.0</td>\n      <td>0.895317</td>\n      <td>0.397959</td>\n      <td>0.95</td>\n      <td>0.0</td>\n      <td>0.0</td>\n      <td>...</td>\n      <td>0.0</td>\n      <td>0.0</td>\n      <td>1.0</td>\n      <td>0.0</td>\n      <td>0.0</td>\n      <td>0.0</td>\n      <td>0.0</td>\n      <td>0.0</td>\n      <td>0.0</td>\n      <td>1.0</td>\n    </tr>\n    <tr>\n      <th>4</th>\n      <td>0.328767</td>\n      <td>0.428571</td>\n      <td>0.600000</td>\n      <td>0.692308</td>\n      <td>0.0</td>\n      <td>0.895317</td>\n      <td>0.397959</td>\n      <td>0.95</td>\n      <td>0.0</td>\n      <td>0.0</td>\n      <td>...</td>\n      <td>0.0</td>\n      <td>1.0</td>\n      <td>0.0</td>\n      <td>0.0</td>\n      <td>0.0</td>\n      <td>0.0</td>\n      <td>0.0</td>\n      <td>0.0</td>\n      <td>0.0</td>\n      <td>1.0</td>\n    </tr>\n    <tr>\n      <th>...</th>\n      <td>...</td>\n      <td>...</td>\n      <td>...</td>\n      <td>...</td>\n      <td>...</td>\n      <td>...</td>\n      <td>...</td>\n      <td>...</td>\n      <td>...</td>\n      <td>...</td>\n      <td>...</td>\n      <td>...</td>\n      <td>...</td>\n      <td>...</td>\n      <td>...</td>\n      <td>...</td>\n      <td>...</td>\n      <td>...</td>\n      <td>...</td>\n      <td>...</td>\n      <td>...</td>\n    </tr>\n    <tr>\n      <th>32556</th>\n      <td>0.068493</td>\n      <td>0.428571</td>\n      <td>0.600000</td>\n      <td>0.769231</td>\n      <td>0.0</td>\n      <td>0.000000</td>\n      <td>0.397959</td>\n      <td>0.95</td>\n      <td>0.0</td>\n      <td>0.0</td>\n      <td>...</td>\n      <td>0.0</td>\n      <td>0.0</td>\n      <td>0.0</td>\n      <td>0.0</td>\n      <td>0.0</td>\n      <td>1.0</td>\n      <td>0.0</td>\n      <td>0.0</td>\n      <td>0.0</td>\n      <td>1.0</td>\n    </tr>\n    <tr>\n      <th>32557</th>\n      <td>0.136986</td>\n      <td>0.428571</td>\n      <td>0.733333</td>\n      <td>0.923077</td>\n      <td>0.0</td>\n      <td>0.000000</td>\n      <td>0.377551</td>\n      <td>0.95</td>\n      <td>0.0</td>\n      <td>1.0</td>\n      <td>...</td>\n      <td>0.0</td>\n      <td>0.0</td>\n      <td>0.0</td>\n      <td>1.0</td>\n      <td>0.0</td>\n      <td>0.0</td>\n      <td>0.0</td>\n      <td>0.0</td>\n      <td>0.0</td>\n      <td>1.0</td>\n    </tr>\n    <tr>\n      <th>32558</th>\n      <td>0.315068</td>\n      <td>0.428571</td>\n      <td>0.533333</td>\n      <td>0.461538</td>\n      <td>0.0</td>\n      <td>0.000000</td>\n      <td>0.397959</td>\n      <td>0.95</td>\n      <td>0.0</td>\n      <td>1.0</td>\n      <td>...</td>\n      <td>0.0</td>\n      <td>0.0</td>\n      <td>0.0</td>\n      <td>0.0</td>\n      <td>1.0</td>\n      <td>1.0</td>\n      <td>0.0</td>\n      <td>0.0</td>\n      <td>0.0</td>\n      <td>1.0</td>\n    </tr>\n    <tr>\n      <th>32559</th>\n      <td>0.561644</td>\n      <td>0.428571</td>\n      <td>0.533333</td>\n      <td>0.000000</td>\n      <td>0.0</td>\n      <td>0.000000</td>\n      <td>0.397959</td>\n      <td>0.95</td>\n      <td>0.0</td>\n      <td>0.0</td>\n      <td>...</td>\n      <td>0.0</td>\n      <td>0.0</td>\n      <td>1.0</td>\n      <td>0.0</td>\n      <td>0.0</td>\n      <td>0.0</td>\n      <td>0.0</td>\n      <td>0.0</td>\n      <td>0.0</td>\n      <td>1.0</td>\n    </tr>\n    <tr>\n      <th>32560</th>\n      <td>0.068493</td>\n      <td>0.428571</td>\n      <td>0.533333</td>\n      <td>0.000000</td>\n      <td>0.0</td>\n      <td>0.000000</td>\n      <td>0.193878</td>\n      <td>0.95</td>\n      <td>0.0</td>\n      <td>0.0</td>\n      <td>...</td>\n      <td>0.0</td>\n      <td>1.0</td>\n      <td>0.0</td>\n      <td>0.0</td>\n      <td>0.0</td>\n      <td>1.0</td>\n      <td>0.0</td>\n      <td>0.0</td>\n      <td>0.0</td>\n      <td>1.0</td>\n    </tr>\n  </tbody>\n</table>\n<p>32561 rows × 25 columns</p>\n</div>"
     },
     "metadata": {},
     "execution_count": 22
    }
   ],
   "source": [
    "mean_data"
   ]
  },
  {
   "cell_type": "markdown",
   "metadata": {},
   "source": [
    "## Cold Deck Imputation"
   ]
  },
  {
   "cell_type": "markdown",
   "metadata": {},
   "source": [
    "The simplest way of implementing Cold Deck imputation would be to use sklears knn imputer with k=1 where you just select the corresponding value of the most similar row.\n"
   ]
  },
  {
   "cell_type": "code",
   "execution_count": 23,
   "metadata": {},
   "outputs": [],
   "source": [
    "CD_data = org_data.copy()"
   ]
  },
  {
   "cell_type": "code",
   "execution_count": 24,
   "metadata": {},
   "outputs": [],
   "source": [
    "missing_data = CD_data[missing_columns]\n",
    "full_data = CD_data.drop(missing_columns, axis=1)"
   ]
  },
  {
   "cell_type": "markdown",
   "metadata": {},
   "source": [
    "Convert all categorical columns that are not missing values to OneHotEncoded data (None of the remain categorical variables have )"
   ]
  },
  {
   "cell_type": "code",
   "execution_count": 25,
   "metadata": {},
   "outputs": [],
   "source": [
    "cat_cols = ['marital.status', 'relationship','income','sex','race']"
   ]
  },
  {
   "cell_type": "code",
   "execution_count": 26,
   "metadata": {
    "tags": []
   },
   "outputs": [],
   "source": [
    "OH_data = pd.get_dummies(full_data[cat_cols], drop_first=True) # prevent dummy variable trap\n",
    "full_data.drop(cat_cols, axis=1, inplace=True)\n",
    "full_data = pd.concat([full_data,OH_data], axis=1)\n",
    "\n",
    "#scale all columns not containing missing data\n",
    "scaler = MinMaxScaler()\n",
    "scaled_data = scaler.fit_transform(full_data)\n",
    "full_data = pd.DataFrame(scaled_data, columns=full_data.columns)"
   ]
  },
  {
   "cell_type": "code",
   "execution_count": 27,
   "metadata": {
    "tags": []
   },
   "outputs": [],
   "source": [
    "#encode columns with missing values \n",
    "missing_data.fillna(\"0\", inplace=True)\n",
    "for col in missing_columns:\n",
    "\n",
    "    #encode columns with missing data\n",
    "    le = LabelEncoder()\n",
    "    labeled_data = le.fit_transform(missing_data[col])\n",
    "    missing_data[col] = labeled_data\n",
    "\n",
    "    #scale columns with missing data\n",
    "    scaler = MinMaxScaler()\n",
    "    scaled_data = scaler.fit_transform(missing_data[[col]])\n",
    "    missing_data[col] = scaled_data\n",
    "    missing_data[col] = missing_data[col].apply(lambda x: np.nan if x==0 else x)"
   ]
  },
  {
   "cell_type": "code",
   "execution_count": 28,
   "metadata": {},
   "outputs": [
    {
     "output_type": "execute_result",
     "data": {
      "text/plain": "       workclass  occupation  native.country       age  education.num  \\\n0            NaN         NaN         0.95122  1.000000       0.533333   \n1            0.5    0.285714         0.95122  0.890411       0.533333   \n2            NaN         NaN         0.95122  0.671233       0.600000   \n3            0.5    0.500000         0.95122  0.506849       0.200000   \n4            0.5    0.714286         0.95122  0.328767       0.600000   \n...          ...         ...             ...       ...            ...   \n32556        0.5    0.785714         0.95122  0.068493       0.600000   \n32557        0.5    0.928571         0.95122  0.136986       0.733333   \n32558        0.5    0.500000         0.95122  0.315068       0.533333   \n32559        0.5    0.071429         0.95122  0.561644       0.533333   \n32560        0.5    0.071429         0.95122  0.068493       0.533333   \n\n       capital.gain  capital.loss  hours.per.week  \\\n0               0.0      1.000000        0.397959   \n1               0.0      1.000000        0.173469   \n2               0.0      1.000000        0.397959   \n3               0.0      0.895317        0.397959   \n4               0.0      0.895317        0.397959   \n...             ...           ...             ...   \n32556           0.0      0.000000        0.397959   \n32557           0.0      0.000000        0.377551   \n32558           0.0      0.000000        0.397959   \n32559           0.0      0.000000        0.397959   \n32560           0.0      0.000000        0.193878   \n\n       marital.status_Married-AF-spouse  marital.status_Married-civ-spouse  \\\n0                                   0.0                                0.0   \n1                                   0.0                                0.0   \n2                                   0.0                                0.0   \n3                                   0.0                                0.0   \n4                                   0.0                                0.0   \n...                                 ...                                ...   \n32556                               0.0                                0.0   \n32557                               0.0                                1.0   \n32558                               0.0                                1.0   \n32559                               0.0                                0.0   \n32560                               0.0                                0.0   \n\n       ...  relationship_Other-relative  relationship_Own-child  \\\n0      ...                          0.0                     0.0   \n1      ...                          0.0                     0.0   \n2      ...                          0.0                     0.0   \n3      ...                          0.0                     0.0   \n4      ...                          0.0                     1.0   \n...    ...                          ...                     ...   \n32556  ...                          0.0                     0.0   \n32557  ...                          0.0                     0.0   \n32558  ...                          0.0                     0.0   \n32559  ...                          0.0                     0.0   \n32560  ...                          0.0                     1.0   \n\n       relationship_Unmarried  relationship_Wife  income_>50K  sex_Male  \\\n0                         0.0                0.0          0.0       0.0   \n1                         0.0                0.0          0.0       0.0   \n2                         1.0                0.0          0.0       0.0   \n3                         1.0                0.0          0.0       0.0   \n4                         0.0                0.0          0.0       0.0   \n...                       ...                ...          ...       ...   \n32556                     0.0                0.0          0.0       1.0   \n32557                     0.0                1.0          0.0       0.0   \n32558                     0.0                0.0          1.0       1.0   \n32559                     1.0                0.0          0.0       0.0   \n32560                     0.0                0.0          0.0       1.0   \n\n       race_Asian-Pac-Islander  race_Black  race_Other  race_White  \n0                          0.0         0.0         0.0         1.0  \n1                          0.0         0.0         0.0         1.0  \n2                          0.0         1.0         0.0         0.0  \n3                          0.0         0.0         0.0         1.0  \n4                          0.0         0.0         0.0         1.0  \n...                        ...         ...         ...         ...  \n32556                      0.0         0.0         0.0         1.0  \n32557                      0.0         0.0         0.0         1.0  \n32558                      0.0         0.0         0.0         1.0  \n32559                      0.0         0.0         0.0         1.0  \n32560                      0.0         0.0         0.0         1.0  \n\n[32561 rows x 25 columns]",
      "text/html": "<div>\n<style scoped>\n    .dataframe tbody tr th:only-of-type {\n        vertical-align: middle;\n    }\n\n    .dataframe tbody tr th {\n        vertical-align: top;\n    }\n\n    .dataframe thead th {\n        text-align: right;\n    }\n</style>\n<table border=\"1\" class=\"dataframe\">\n  <thead>\n    <tr style=\"text-align: right;\">\n      <th></th>\n      <th>workclass</th>\n      <th>occupation</th>\n      <th>native.country</th>\n      <th>age</th>\n      <th>education.num</th>\n      <th>capital.gain</th>\n      <th>capital.loss</th>\n      <th>hours.per.week</th>\n      <th>marital.status_Married-AF-spouse</th>\n      <th>marital.status_Married-civ-spouse</th>\n      <th>...</th>\n      <th>relationship_Other-relative</th>\n      <th>relationship_Own-child</th>\n      <th>relationship_Unmarried</th>\n      <th>relationship_Wife</th>\n      <th>income_&gt;50K</th>\n      <th>sex_Male</th>\n      <th>race_Asian-Pac-Islander</th>\n      <th>race_Black</th>\n      <th>race_Other</th>\n      <th>race_White</th>\n    </tr>\n  </thead>\n  <tbody>\n    <tr>\n      <th>0</th>\n      <td>NaN</td>\n      <td>NaN</td>\n      <td>0.95122</td>\n      <td>1.000000</td>\n      <td>0.533333</td>\n      <td>0.0</td>\n      <td>1.000000</td>\n      <td>0.397959</td>\n      <td>0.0</td>\n      <td>0.0</td>\n      <td>...</td>\n      <td>0.0</td>\n      <td>0.0</td>\n      <td>0.0</td>\n      <td>0.0</td>\n      <td>0.0</td>\n      <td>0.0</td>\n      <td>0.0</td>\n      <td>0.0</td>\n      <td>0.0</td>\n      <td>1.0</td>\n    </tr>\n    <tr>\n      <th>1</th>\n      <td>0.5</td>\n      <td>0.285714</td>\n      <td>0.95122</td>\n      <td>0.890411</td>\n      <td>0.533333</td>\n      <td>0.0</td>\n      <td>1.000000</td>\n      <td>0.173469</td>\n      <td>0.0</td>\n      <td>0.0</td>\n      <td>...</td>\n      <td>0.0</td>\n      <td>0.0</td>\n      <td>0.0</td>\n      <td>0.0</td>\n      <td>0.0</td>\n      <td>0.0</td>\n      <td>0.0</td>\n      <td>0.0</td>\n      <td>0.0</td>\n      <td>1.0</td>\n    </tr>\n    <tr>\n      <th>2</th>\n      <td>NaN</td>\n      <td>NaN</td>\n      <td>0.95122</td>\n      <td>0.671233</td>\n      <td>0.600000</td>\n      <td>0.0</td>\n      <td>1.000000</td>\n      <td>0.397959</td>\n      <td>0.0</td>\n      <td>0.0</td>\n      <td>...</td>\n      <td>0.0</td>\n      <td>0.0</td>\n      <td>1.0</td>\n      <td>0.0</td>\n      <td>0.0</td>\n      <td>0.0</td>\n      <td>0.0</td>\n      <td>1.0</td>\n      <td>0.0</td>\n      <td>0.0</td>\n    </tr>\n    <tr>\n      <th>3</th>\n      <td>0.5</td>\n      <td>0.500000</td>\n      <td>0.95122</td>\n      <td>0.506849</td>\n      <td>0.200000</td>\n      <td>0.0</td>\n      <td>0.895317</td>\n      <td>0.397959</td>\n      <td>0.0</td>\n      <td>0.0</td>\n      <td>...</td>\n      <td>0.0</td>\n      <td>0.0</td>\n      <td>1.0</td>\n      <td>0.0</td>\n      <td>0.0</td>\n      <td>0.0</td>\n      <td>0.0</td>\n      <td>0.0</td>\n      <td>0.0</td>\n      <td>1.0</td>\n    </tr>\n    <tr>\n      <th>4</th>\n      <td>0.5</td>\n      <td>0.714286</td>\n      <td>0.95122</td>\n      <td>0.328767</td>\n      <td>0.600000</td>\n      <td>0.0</td>\n      <td>0.895317</td>\n      <td>0.397959</td>\n      <td>0.0</td>\n      <td>0.0</td>\n      <td>...</td>\n      <td>0.0</td>\n      <td>1.0</td>\n      <td>0.0</td>\n      <td>0.0</td>\n      <td>0.0</td>\n      <td>0.0</td>\n      <td>0.0</td>\n      <td>0.0</td>\n      <td>0.0</td>\n      <td>1.0</td>\n    </tr>\n    <tr>\n      <th>...</th>\n      <td>...</td>\n      <td>...</td>\n      <td>...</td>\n      <td>...</td>\n      <td>...</td>\n      <td>...</td>\n      <td>...</td>\n      <td>...</td>\n      <td>...</td>\n      <td>...</td>\n      <td>...</td>\n      <td>...</td>\n      <td>...</td>\n      <td>...</td>\n      <td>...</td>\n      <td>...</td>\n      <td>...</td>\n      <td>...</td>\n      <td>...</td>\n      <td>...</td>\n      <td>...</td>\n    </tr>\n    <tr>\n      <th>32556</th>\n      <td>0.5</td>\n      <td>0.785714</td>\n      <td>0.95122</td>\n      <td>0.068493</td>\n      <td>0.600000</td>\n      <td>0.0</td>\n      <td>0.000000</td>\n      <td>0.397959</td>\n      <td>0.0</td>\n      <td>0.0</td>\n      <td>...</td>\n      <td>0.0</td>\n      <td>0.0</td>\n      <td>0.0</td>\n      <td>0.0</td>\n      <td>0.0</td>\n      <td>1.0</td>\n      <td>0.0</td>\n      <td>0.0</td>\n      <td>0.0</td>\n      <td>1.0</td>\n    </tr>\n    <tr>\n      <th>32557</th>\n      <td>0.5</td>\n      <td>0.928571</td>\n      <td>0.95122</td>\n      <td>0.136986</td>\n      <td>0.733333</td>\n      <td>0.0</td>\n      <td>0.000000</td>\n      <td>0.377551</td>\n      <td>0.0</td>\n      <td>1.0</td>\n      <td>...</td>\n      <td>0.0</td>\n      <td>0.0</td>\n      <td>0.0</td>\n      <td>1.0</td>\n      <td>0.0</td>\n      <td>0.0</td>\n      <td>0.0</td>\n      <td>0.0</td>\n      <td>0.0</td>\n      <td>1.0</td>\n    </tr>\n    <tr>\n      <th>32558</th>\n      <td>0.5</td>\n      <td>0.500000</td>\n      <td>0.95122</td>\n      <td>0.315068</td>\n      <td>0.533333</td>\n      <td>0.0</td>\n      <td>0.000000</td>\n      <td>0.397959</td>\n      <td>0.0</td>\n      <td>1.0</td>\n      <td>...</td>\n      <td>0.0</td>\n      <td>0.0</td>\n      <td>0.0</td>\n      <td>0.0</td>\n      <td>1.0</td>\n      <td>1.0</td>\n      <td>0.0</td>\n      <td>0.0</td>\n      <td>0.0</td>\n      <td>1.0</td>\n    </tr>\n    <tr>\n      <th>32559</th>\n      <td>0.5</td>\n      <td>0.071429</td>\n      <td>0.95122</td>\n      <td>0.561644</td>\n      <td>0.533333</td>\n      <td>0.0</td>\n      <td>0.000000</td>\n      <td>0.397959</td>\n      <td>0.0</td>\n      <td>0.0</td>\n      <td>...</td>\n      <td>0.0</td>\n      <td>0.0</td>\n      <td>1.0</td>\n      <td>0.0</td>\n      <td>0.0</td>\n      <td>0.0</td>\n      <td>0.0</td>\n      <td>0.0</td>\n      <td>0.0</td>\n      <td>1.0</td>\n    </tr>\n    <tr>\n      <th>32560</th>\n      <td>0.5</td>\n      <td>0.071429</td>\n      <td>0.95122</td>\n      <td>0.068493</td>\n      <td>0.533333</td>\n      <td>0.0</td>\n      <td>0.000000</td>\n      <td>0.193878</td>\n      <td>0.0</td>\n      <td>0.0</td>\n      <td>...</td>\n      <td>0.0</td>\n      <td>1.0</td>\n      <td>0.0</td>\n      <td>0.0</td>\n      <td>0.0</td>\n      <td>1.0</td>\n      <td>0.0</td>\n      <td>0.0</td>\n      <td>0.0</td>\n      <td>1.0</td>\n    </tr>\n  </tbody>\n</table>\n<p>32561 rows × 25 columns</p>\n</div>"
     },
     "metadata": {},
     "execution_count": 28
    }
   ],
   "source": [
    "CD_data = pd.concat([missing_data, full_data],axis=1)\n",
    "CD_data"
   ]
  },
  {
   "cell_type": "code",
   "execution_count": 29,
   "metadata": {},
   "outputs": [],
   "source": [
    "CD_imp = KNNImputer(n_neighbors=1)"
   ]
  },
  {
   "cell_type": "code",
   "execution_count": 30,
   "metadata": {},
   "outputs": [],
   "source": [
    "CD_data = pd.DataFrame(CD_imp.fit_transform(CD_data), columns = CD_data.columns)"
   ]
  },
  {
   "cell_type": "code",
   "execution_count": 31,
   "metadata": {},
   "outputs": [
    {
     "output_type": "execute_result",
     "data": {
      "text/plain": "       workclass  occupation  native.country       age  education.num  \\\n0            0.5    0.285714         0.95122  1.000000       0.533333   \n1            0.5    0.285714         0.95122  0.890411       0.533333   \n2            0.5    0.285714         0.95122  0.671233       0.600000   \n3            0.5    0.500000         0.95122  0.506849       0.200000   \n4            0.5    0.714286         0.95122  0.328767       0.600000   \n...          ...         ...             ...       ...            ...   \n32556        0.5    0.785714         0.95122  0.068493       0.600000   \n32557        0.5    0.928571         0.95122  0.136986       0.733333   \n32558        0.5    0.500000         0.95122  0.315068       0.533333   \n32559        0.5    0.071429         0.95122  0.561644       0.533333   \n32560        0.5    0.071429         0.95122  0.068493       0.533333   \n\n       capital.gain  capital.loss  hours.per.week  \\\n0               0.0      1.000000        0.397959   \n1               0.0      1.000000        0.173469   \n2               0.0      1.000000        0.397959   \n3               0.0      0.895317        0.397959   \n4               0.0      0.895317        0.397959   \n...             ...           ...             ...   \n32556           0.0      0.000000        0.397959   \n32557           0.0      0.000000        0.377551   \n32558           0.0      0.000000        0.397959   \n32559           0.0      0.000000        0.397959   \n32560           0.0      0.000000        0.193878   \n\n       marital.status_Married-AF-spouse  marital.status_Married-civ-spouse  \\\n0                                   0.0                                0.0   \n1                                   0.0                                0.0   \n2                                   0.0                                0.0   \n3                                   0.0                                0.0   \n4                                   0.0                                0.0   \n...                                 ...                                ...   \n32556                               0.0                                0.0   \n32557                               0.0                                1.0   \n32558                               0.0                                1.0   \n32559                               0.0                                0.0   \n32560                               0.0                                0.0   \n\n       ...  relationship_Other-relative  relationship_Own-child  \\\n0      ...                          0.0                     0.0   \n1      ...                          0.0                     0.0   \n2      ...                          0.0                     0.0   \n3      ...                          0.0                     0.0   \n4      ...                          0.0                     1.0   \n...    ...                          ...                     ...   \n32556  ...                          0.0                     0.0   \n32557  ...                          0.0                     0.0   \n32558  ...                          0.0                     0.0   \n32559  ...                          0.0                     0.0   \n32560  ...                          0.0                     1.0   \n\n       relationship_Unmarried  relationship_Wife  income_>50K  sex_Male  \\\n0                         0.0                0.0          0.0       0.0   \n1                         0.0                0.0          0.0       0.0   \n2                         1.0                0.0          0.0       0.0   \n3                         1.0                0.0          0.0       0.0   \n4                         0.0                0.0          0.0       0.0   \n...                       ...                ...          ...       ...   \n32556                     0.0                0.0          0.0       1.0   \n32557                     0.0                1.0          0.0       0.0   \n32558                     0.0                0.0          1.0       1.0   \n32559                     1.0                0.0          0.0       0.0   \n32560                     0.0                0.0          0.0       1.0   \n\n       race_Asian-Pac-Islander  race_Black  race_Other  race_White  \n0                          0.0         0.0         0.0         1.0  \n1                          0.0         0.0         0.0         1.0  \n2                          0.0         1.0         0.0         0.0  \n3                          0.0         0.0         0.0         1.0  \n4                          0.0         0.0         0.0         1.0  \n...                        ...         ...         ...         ...  \n32556                      0.0         0.0         0.0         1.0  \n32557                      0.0         0.0         0.0         1.0  \n32558                      0.0         0.0         0.0         1.0  \n32559                      0.0         0.0         0.0         1.0  \n32560                      0.0         0.0         0.0         1.0  \n\n[32561 rows x 25 columns]",
      "text/html": "<div>\n<style scoped>\n    .dataframe tbody tr th:only-of-type {\n        vertical-align: middle;\n    }\n\n    .dataframe tbody tr th {\n        vertical-align: top;\n    }\n\n    .dataframe thead th {\n        text-align: right;\n    }\n</style>\n<table border=\"1\" class=\"dataframe\">\n  <thead>\n    <tr style=\"text-align: right;\">\n      <th></th>\n      <th>workclass</th>\n      <th>occupation</th>\n      <th>native.country</th>\n      <th>age</th>\n      <th>education.num</th>\n      <th>capital.gain</th>\n      <th>capital.loss</th>\n      <th>hours.per.week</th>\n      <th>marital.status_Married-AF-spouse</th>\n      <th>marital.status_Married-civ-spouse</th>\n      <th>...</th>\n      <th>relationship_Other-relative</th>\n      <th>relationship_Own-child</th>\n      <th>relationship_Unmarried</th>\n      <th>relationship_Wife</th>\n      <th>income_&gt;50K</th>\n      <th>sex_Male</th>\n      <th>race_Asian-Pac-Islander</th>\n      <th>race_Black</th>\n      <th>race_Other</th>\n      <th>race_White</th>\n    </tr>\n  </thead>\n  <tbody>\n    <tr>\n      <th>0</th>\n      <td>0.5</td>\n      <td>0.285714</td>\n      <td>0.95122</td>\n      <td>1.000000</td>\n      <td>0.533333</td>\n      <td>0.0</td>\n      <td>1.000000</td>\n      <td>0.397959</td>\n      <td>0.0</td>\n      <td>0.0</td>\n      <td>...</td>\n      <td>0.0</td>\n      <td>0.0</td>\n      <td>0.0</td>\n      <td>0.0</td>\n      <td>0.0</td>\n      <td>0.0</td>\n      <td>0.0</td>\n      <td>0.0</td>\n      <td>0.0</td>\n      <td>1.0</td>\n    </tr>\n    <tr>\n      <th>1</th>\n      <td>0.5</td>\n      <td>0.285714</td>\n      <td>0.95122</td>\n      <td>0.890411</td>\n      <td>0.533333</td>\n      <td>0.0</td>\n      <td>1.000000</td>\n      <td>0.173469</td>\n      <td>0.0</td>\n      <td>0.0</td>\n      <td>...</td>\n      <td>0.0</td>\n      <td>0.0</td>\n      <td>0.0</td>\n      <td>0.0</td>\n      <td>0.0</td>\n      <td>0.0</td>\n      <td>0.0</td>\n      <td>0.0</td>\n      <td>0.0</td>\n      <td>1.0</td>\n    </tr>\n    <tr>\n      <th>2</th>\n      <td>0.5</td>\n      <td>0.285714</td>\n      <td>0.95122</td>\n      <td>0.671233</td>\n      <td>0.600000</td>\n      <td>0.0</td>\n      <td>1.000000</td>\n      <td>0.397959</td>\n      <td>0.0</td>\n      <td>0.0</td>\n      <td>...</td>\n      <td>0.0</td>\n      <td>0.0</td>\n      <td>1.0</td>\n      <td>0.0</td>\n      <td>0.0</td>\n      <td>0.0</td>\n      <td>0.0</td>\n      <td>1.0</td>\n      <td>0.0</td>\n      <td>0.0</td>\n    </tr>\n    <tr>\n      <th>3</th>\n      <td>0.5</td>\n      <td>0.500000</td>\n      <td>0.95122</td>\n      <td>0.506849</td>\n      <td>0.200000</td>\n      <td>0.0</td>\n      <td>0.895317</td>\n      <td>0.397959</td>\n      <td>0.0</td>\n      <td>0.0</td>\n      <td>...</td>\n      <td>0.0</td>\n      <td>0.0</td>\n      <td>1.0</td>\n      <td>0.0</td>\n      <td>0.0</td>\n      <td>0.0</td>\n      <td>0.0</td>\n      <td>0.0</td>\n      <td>0.0</td>\n      <td>1.0</td>\n    </tr>\n    <tr>\n      <th>4</th>\n      <td>0.5</td>\n      <td>0.714286</td>\n      <td>0.95122</td>\n      <td>0.328767</td>\n      <td>0.600000</td>\n      <td>0.0</td>\n      <td>0.895317</td>\n      <td>0.397959</td>\n      <td>0.0</td>\n      <td>0.0</td>\n      <td>...</td>\n      <td>0.0</td>\n      <td>1.0</td>\n      <td>0.0</td>\n      <td>0.0</td>\n      <td>0.0</td>\n      <td>0.0</td>\n      <td>0.0</td>\n      <td>0.0</td>\n      <td>0.0</td>\n      <td>1.0</td>\n    </tr>\n    <tr>\n      <th>...</th>\n      <td>...</td>\n      <td>...</td>\n      <td>...</td>\n      <td>...</td>\n      <td>...</td>\n      <td>...</td>\n      <td>...</td>\n      <td>...</td>\n      <td>...</td>\n      <td>...</td>\n      <td>...</td>\n      <td>...</td>\n      <td>...</td>\n      <td>...</td>\n      <td>...</td>\n      <td>...</td>\n      <td>...</td>\n      <td>...</td>\n      <td>...</td>\n      <td>...</td>\n      <td>...</td>\n    </tr>\n    <tr>\n      <th>32556</th>\n      <td>0.5</td>\n      <td>0.785714</td>\n      <td>0.95122</td>\n      <td>0.068493</td>\n      <td>0.600000</td>\n      <td>0.0</td>\n      <td>0.000000</td>\n      <td>0.397959</td>\n      <td>0.0</td>\n      <td>0.0</td>\n      <td>...</td>\n      <td>0.0</td>\n      <td>0.0</td>\n      <td>0.0</td>\n      <td>0.0</td>\n      <td>0.0</td>\n      <td>1.0</td>\n      <td>0.0</td>\n      <td>0.0</td>\n      <td>0.0</td>\n      <td>1.0</td>\n    </tr>\n    <tr>\n      <th>32557</th>\n      <td>0.5</td>\n      <td>0.928571</td>\n      <td>0.95122</td>\n      <td>0.136986</td>\n      <td>0.733333</td>\n      <td>0.0</td>\n      <td>0.000000</td>\n      <td>0.377551</td>\n      <td>0.0</td>\n      <td>1.0</td>\n      <td>...</td>\n      <td>0.0</td>\n      <td>0.0</td>\n      <td>0.0</td>\n      <td>1.0</td>\n      <td>0.0</td>\n      <td>0.0</td>\n      <td>0.0</td>\n      <td>0.0</td>\n      <td>0.0</td>\n      <td>1.0</td>\n    </tr>\n    <tr>\n      <th>32558</th>\n      <td>0.5</td>\n      <td>0.500000</td>\n      <td>0.95122</td>\n      <td>0.315068</td>\n      <td>0.533333</td>\n      <td>0.0</td>\n      <td>0.000000</td>\n      <td>0.397959</td>\n      <td>0.0</td>\n      <td>1.0</td>\n      <td>...</td>\n      <td>0.0</td>\n      <td>0.0</td>\n      <td>0.0</td>\n      <td>0.0</td>\n      <td>1.0</td>\n      <td>1.0</td>\n      <td>0.0</td>\n      <td>0.0</td>\n      <td>0.0</td>\n      <td>1.0</td>\n    </tr>\n    <tr>\n      <th>32559</th>\n      <td>0.5</td>\n      <td>0.071429</td>\n      <td>0.95122</td>\n      <td>0.561644</td>\n      <td>0.533333</td>\n      <td>0.0</td>\n      <td>0.000000</td>\n      <td>0.397959</td>\n      <td>0.0</td>\n      <td>0.0</td>\n      <td>...</td>\n      <td>0.0</td>\n      <td>0.0</td>\n      <td>1.0</td>\n      <td>0.0</td>\n      <td>0.0</td>\n      <td>0.0</td>\n      <td>0.0</td>\n      <td>0.0</td>\n      <td>0.0</td>\n      <td>1.0</td>\n    </tr>\n    <tr>\n      <th>32560</th>\n      <td>0.5</td>\n      <td>0.071429</td>\n      <td>0.95122</td>\n      <td>0.068493</td>\n      <td>0.533333</td>\n      <td>0.0</td>\n      <td>0.000000</td>\n      <td>0.193878</td>\n      <td>0.0</td>\n      <td>0.0</td>\n      <td>...</td>\n      <td>0.0</td>\n      <td>1.0</td>\n      <td>0.0</td>\n      <td>0.0</td>\n      <td>0.0</td>\n      <td>1.0</td>\n      <td>0.0</td>\n      <td>0.0</td>\n      <td>0.0</td>\n      <td>1.0</td>\n    </tr>\n  </tbody>\n</table>\n<p>32561 rows × 25 columns</p>\n</div>"
     },
     "metadata": {},
     "execution_count": 31
    }
   ],
   "source": [
    "CD_data"
   ]
  },
  {
   "cell_type": "markdown",
   "metadata": {},
   "source": [
    "## Regression Imputation"
   ]
  },
  {
   "cell_type": "code",
   "execution_count": 32,
   "metadata": {},
   "outputs": [],
   "source": [
    "reg_data = org_data.copy()"
   ]
  },
  {
   "cell_type": "markdown",
   "metadata": {},
   "source": [
    "To keep regression more simple we will only use complete features as predictor variables rather than using random imputation first etc."
   ]
  },
  {
   "cell_type": "code",
   "execution_count": 33,
   "metadata": {},
   "outputs": [],
   "source": [
    "missing_features = reg_data[missing_columns]\n",
    "pred_features = reg_data.drop(missing_columns, axis=1)"
   ]
  },
  {
   "cell_type": "code",
   "execution_count": 34,
   "metadata": {},
   "outputs": [],
   "source": [
    "cat_cols = ['marital.status', 'relationship','income','sex','race']\n",
    "OH_data = pd.get_dummies(pred_features[cat_cols], drop_first=True) # prevent dummy variable trap\n",
    "pred_features.drop(cat_cols, axis=1, inplace=True)\n",
    "pred_features = pd.concat([pred_features,OH_data], axis=1)\n",
    "\n",
    "#scale all columns not containing missing data\n",
    "scaler = MinMaxScaler()\n",
    "scaled_data = scaler.fit_transform(pred_features)\n",
    "pred_features = pd.DataFrame(scaled_data, columns=pred_features.columns)\n",
    "\n",
    "#encode columns with missing values \n",
    "missing_features.fillna(\"0\", inplace=True)\n",
    "for col in missing_columns:\n",
    "\n",
    "    #encode columns with missing data\n",
    "    le = LabelEncoder()\n",
    "    labeled_data = le.fit_transform(missing_features[col])\n",
    "    missing_features[col] = labeled_data\n",
    "\n",
    "    missing_features[col] = missing_features[col].apply(lambda x: np.nan if x==0 else x)"
   ]
  },
  {
   "cell_type": "code",
   "execution_count": 35,
   "metadata": {},
   "outputs": [],
   "source": [
    "reg_data = pd.concat([missing_features, pred_features],axis=1)"
   ]
  },
  {
   "cell_type": "code",
   "execution_count": 36,
   "metadata": {},
   "outputs": [],
   "source": [
    "test_data = reg_data[reg_data.isna().any(axis=1)]\n",
    "train_data = reg_data.dropna()\n",
    "\n",
    "S_test_data = test_data.copy()\n",
    "S_train_data = train_data.copy()"
   ]
  },
  {
   "cell_type": "code",
   "execution_count": 37,
   "metadata": {},
   "outputs": [
    {
     "output_type": "execute_result",
     "data": {
      "text/plain": "       workclass  occupation  native.country       age  education.num  \\\n0            NaN         NaN            39.0  1.000000       0.533333   \n2            NaN         NaN            39.0  0.671233       0.600000   \n9            4.0         3.0             NaN  0.328767       0.600000   \n14           NaN         NaN            39.0  0.465753       1.000000   \n18           4.0         6.0             NaN  0.068493       0.733333   \n...          ...         ...             ...       ...            ...   \n32533        NaN         NaN            39.0  0.246575       0.800000   \n32534        NaN         NaN            39.0  0.178082       0.800000   \n32541        NaN         NaN            39.0  0.739726       1.000000   \n32543        NaN         NaN            39.0  0.328767       0.533333   \n32544        NaN         NaN            39.0  0.753425       0.533333   \n\n       capital.gain  capital.loss  hours.per.week  \\\n0               0.0      1.000000        0.397959   \n2               0.0      1.000000        0.397959   \n9               0.0      0.689624        0.602041   \n14              0.0      0.648301        0.397959   \n18              0.0      0.648301        0.397959   \n...             ...           ...             ...   \n32533           0.0      0.000000        0.551020   \n32534           0.0      0.000000        1.000000   \n32541           0.0      0.000000        0.091837   \n32543           0.0      0.000000        0.316327   \n32544           0.0      0.000000        0.244898   \n\n       marital.status_Married-AF-spouse  marital.status_Married-civ-spouse  \\\n0                                   0.0                                0.0   \n2                                   0.0                                0.0   \n9                                   0.0                                0.0   \n14                                  0.0                                0.0   \n18                                  0.0                                0.0   \n...                                 ...                                ...   \n32533                               0.0                                1.0   \n32534                               0.0                                0.0   \n32541                               0.0                                1.0   \n32543                               0.0                                0.0   \n32544                               0.0                                1.0   \n\n       ...  relationship_Other-relative  relationship_Own-child  \\\n0      ...                          0.0                     0.0   \n2      ...                          0.0                     0.0   \n9      ...                          0.0                     0.0   \n14     ...                          0.0                     0.0   \n18     ...                          0.0                     0.0   \n...    ...                          ...                     ...   \n32533  ...                          0.0                     0.0   \n32534  ...                          0.0                     0.0   \n32541  ...                          0.0                     0.0   \n32543  ...                          0.0                     0.0   \n32544  ...                          0.0                     0.0   \n\n       relationship_Unmarried  relationship_Wife  income_>50K  sex_Male  \\\n0                         0.0                0.0          0.0       0.0   \n2                         1.0                0.0          0.0       0.0   \n9                         1.0                0.0          1.0       1.0   \n14                        0.0                0.0          1.0       1.0   \n18                        0.0                0.0          1.0       1.0   \n...                       ...                ...          ...       ...   \n32533                     0.0                1.0          1.0       0.0   \n32534                     0.0                0.0          0.0       0.0   \n32541                     0.0                0.0          1.0       1.0   \n32543                     0.0                0.0          0.0       0.0   \n32544                     0.0                0.0          0.0       1.0   \n\n       race_Asian-Pac-Islander  race_Black  race_Other  race_White  \n0                          0.0         0.0         0.0         1.0  \n2                          0.0         1.0         0.0         0.0  \n9                          0.0         0.0         0.0         1.0  \n14                         0.0         0.0         0.0         1.0  \n18                         0.0         1.0         0.0         0.0  \n...                        ...         ...         ...         ...  \n32533                      0.0         0.0         0.0         1.0  \n32534                      1.0         0.0         0.0         0.0  \n32541                      0.0         0.0         0.0         1.0  \n32543                      0.0         1.0         0.0         0.0  \n32544                      0.0         0.0         0.0         1.0  \n\n[2399 rows x 25 columns]",
      "text/html": "<div>\n<style scoped>\n    .dataframe tbody tr th:only-of-type {\n        vertical-align: middle;\n    }\n\n    .dataframe tbody tr th {\n        vertical-align: top;\n    }\n\n    .dataframe thead th {\n        text-align: right;\n    }\n</style>\n<table border=\"1\" class=\"dataframe\">\n  <thead>\n    <tr style=\"text-align: right;\">\n      <th></th>\n      <th>workclass</th>\n      <th>occupation</th>\n      <th>native.country</th>\n      <th>age</th>\n      <th>education.num</th>\n      <th>capital.gain</th>\n      <th>capital.loss</th>\n      <th>hours.per.week</th>\n      <th>marital.status_Married-AF-spouse</th>\n      <th>marital.status_Married-civ-spouse</th>\n      <th>...</th>\n      <th>relationship_Other-relative</th>\n      <th>relationship_Own-child</th>\n      <th>relationship_Unmarried</th>\n      <th>relationship_Wife</th>\n      <th>income_&gt;50K</th>\n      <th>sex_Male</th>\n      <th>race_Asian-Pac-Islander</th>\n      <th>race_Black</th>\n      <th>race_Other</th>\n      <th>race_White</th>\n    </tr>\n  </thead>\n  <tbody>\n    <tr>\n      <th>0</th>\n      <td>NaN</td>\n      <td>NaN</td>\n      <td>39.0</td>\n      <td>1.000000</td>\n      <td>0.533333</td>\n      <td>0.0</td>\n      <td>1.000000</td>\n      <td>0.397959</td>\n      <td>0.0</td>\n      <td>0.0</td>\n      <td>...</td>\n      <td>0.0</td>\n      <td>0.0</td>\n      <td>0.0</td>\n      <td>0.0</td>\n      <td>0.0</td>\n      <td>0.0</td>\n      <td>0.0</td>\n      <td>0.0</td>\n      <td>0.0</td>\n      <td>1.0</td>\n    </tr>\n    <tr>\n      <th>2</th>\n      <td>NaN</td>\n      <td>NaN</td>\n      <td>39.0</td>\n      <td>0.671233</td>\n      <td>0.600000</td>\n      <td>0.0</td>\n      <td>1.000000</td>\n      <td>0.397959</td>\n      <td>0.0</td>\n      <td>0.0</td>\n      <td>...</td>\n      <td>0.0</td>\n      <td>0.0</td>\n      <td>1.0</td>\n      <td>0.0</td>\n      <td>0.0</td>\n      <td>0.0</td>\n      <td>0.0</td>\n      <td>1.0</td>\n      <td>0.0</td>\n      <td>0.0</td>\n    </tr>\n    <tr>\n      <th>9</th>\n      <td>4.0</td>\n      <td>3.0</td>\n      <td>NaN</td>\n      <td>0.328767</td>\n      <td>0.600000</td>\n      <td>0.0</td>\n      <td>0.689624</td>\n      <td>0.602041</td>\n      <td>0.0</td>\n      <td>0.0</td>\n      <td>...</td>\n      <td>0.0</td>\n      <td>0.0</td>\n      <td>1.0</td>\n      <td>0.0</td>\n      <td>1.0</td>\n      <td>1.0</td>\n      <td>0.0</td>\n      <td>0.0</td>\n      <td>0.0</td>\n      <td>1.0</td>\n    </tr>\n    <tr>\n      <th>14</th>\n      <td>NaN</td>\n      <td>NaN</td>\n      <td>39.0</td>\n      <td>0.465753</td>\n      <td>1.000000</td>\n      <td>0.0</td>\n      <td>0.648301</td>\n      <td>0.397959</td>\n      <td>0.0</td>\n      <td>0.0</td>\n      <td>...</td>\n      <td>0.0</td>\n      <td>0.0</td>\n      <td>0.0</td>\n      <td>0.0</td>\n      <td>1.0</td>\n      <td>1.0</td>\n      <td>0.0</td>\n      <td>0.0</td>\n      <td>0.0</td>\n      <td>1.0</td>\n    </tr>\n    <tr>\n      <th>18</th>\n      <td>4.0</td>\n      <td>6.0</td>\n      <td>NaN</td>\n      <td>0.068493</td>\n      <td>0.733333</td>\n      <td>0.0</td>\n      <td>0.648301</td>\n      <td>0.397959</td>\n      <td>0.0</td>\n      <td>0.0</td>\n      <td>...</td>\n      <td>0.0</td>\n      <td>0.0</td>\n      <td>0.0</td>\n      <td>0.0</td>\n      <td>1.0</td>\n      <td>1.0</td>\n      <td>0.0</td>\n      <td>1.0</td>\n      <td>0.0</td>\n      <td>0.0</td>\n    </tr>\n    <tr>\n      <th>...</th>\n      <td>...</td>\n      <td>...</td>\n      <td>...</td>\n      <td>...</td>\n      <td>...</td>\n      <td>...</td>\n      <td>...</td>\n      <td>...</td>\n      <td>...</td>\n      <td>...</td>\n      <td>...</td>\n      <td>...</td>\n      <td>...</td>\n      <td>...</td>\n      <td>...</td>\n      <td>...</td>\n      <td>...</td>\n      <td>...</td>\n      <td>...</td>\n      <td>...</td>\n      <td>...</td>\n    </tr>\n    <tr>\n      <th>32533</th>\n      <td>NaN</td>\n      <td>NaN</td>\n      <td>39.0</td>\n      <td>0.246575</td>\n      <td>0.800000</td>\n      <td>0.0</td>\n      <td>0.000000</td>\n      <td>0.551020</td>\n      <td>0.0</td>\n      <td>1.0</td>\n      <td>...</td>\n      <td>0.0</td>\n      <td>0.0</td>\n      <td>0.0</td>\n      <td>1.0</td>\n      <td>1.0</td>\n      <td>0.0</td>\n      <td>0.0</td>\n      <td>0.0</td>\n      <td>0.0</td>\n      <td>1.0</td>\n    </tr>\n    <tr>\n      <th>32534</th>\n      <td>NaN</td>\n      <td>NaN</td>\n      <td>39.0</td>\n      <td>0.178082</td>\n      <td>0.800000</td>\n      <td>0.0</td>\n      <td>0.000000</td>\n      <td>1.000000</td>\n      <td>0.0</td>\n      <td>0.0</td>\n      <td>...</td>\n      <td>0.0</td>\n      <td>0.0</td>\n      <td>0.0</td>\n      <td>0.0</td>\n      <td>0.0</td>\n      <td>0.0</td>\n      <td>1.0</td>\n      <td>0.0</td>\n      <td>0.0</td>\n      <td>0.0</td>\n    </tr>\n    <tr>\n      <th>32541</th>\n      <td>NaN</td>\n      <td>NaN</td>\n      <td>39.0</td>\n      <td>0.739726</td>\n      <td>1.000000</td>\n      <td>0.0</td>\n      <td>0.000000</td>\n      <td>0.091837</td>\n      <td>0.0</td>\n      <td>1.0</td>\n      <td>...</td>\n      <td>0.0</td>\n      <td>0.0</td>\n      <td>0.0</td>\n      <td>0.0</td>\n      <td>1.0</td>\n      <td>1.0</td>\n      <td>0.0</td>\n      <td>0.0</td>\n      <td>0.0</td>\n      <td>1.0</td>\n    </tr>\n    <tr>\n      <th>32543</th>\n      <td>NaN</td>\n      <td>NaN</td>\n      <td>39.0</td>\n      <td>0.328767</td>\n      <td>0.533333</td>\n      <td>0.0</td>\n      <td>0.000000</td>\n      <td>0.316327</td>\n      <td>0.0</td>\n      <td>0.0</td>\n      <td>...</td>\n      <td>0.0</td>\n      <td>0.0</td>\n      <td>0.0</td>\n      <td>0.0</td>\n      <td>0.0</td>\n      <td>0.0</td>\n      <td>0.0</td>\n      <td>1.0</td>\n      <td>0.0</td>\n      <td>0.0</td>\n    </tr>\n    <tr>\n      <th>32544</th>\n      <td>NaN</td>\n      <td>NaN</td>\n      <td>39.0</td>\n      <td>0.753425</td>\n      <td>0.533333</td>\n      <td>0.0</td>\n      <td>0.000000</td>\n      <td>0.244898</td>\n      <td>0.0</td>\n      <td>1.0</td>\n      <td>...</td>\n      <td>0.0</td>\n      <td>0.0</td>\n      <td>0.0</td>\n      <td>0.0</td>\n      <td>0.0</td>\n      <td>1.0</td>\n      <td>0.0</td>\n      <td>0.0</td>\n      <td>0.0</td>\n      <td>1.0</td>\n    </tr>\n  </tbody>\n</table>\n<p>2399 rows × 25 columns</p>\n</div>"
     },
     "metadata": {},
     "execution_count": 37
    }
   ],
   "source": [
    "test_data"
   ]
  },
  {
   "cell_type": "code",
   "execution_count": 38,
   "metadata": {
    "tags": []
   },
   "outputs": [],
   "source": [
    "for feature in missing_features.columns:\n",
    "    y_train = train_data[feature]\n",
    "    x_train = train_data.drop(missing_columns,axis=1)\n",
    "\n",
    "    x_test = test_data.drop(missing_columns,axis=1)\n",
    "\n",
    "\n",
    "    log_reg = LogisticRegression(solver='newton-cg',random_state=0).fit(x_train, y_train)\n",
    "    out_prob = log_reg.predict_proba(x_test)\n",
    "    test_data[feature] = log_reg.predict(x_test)\n",
    "\n"
   ]
  },
  {
   "cell_type": "code",
   "execution_count": 39,
   "metadata": {},
   "outputs": [],
   "source": [
    "\n",
    "for feature in missing_features.columns:\n",
    "    y_train = S_train_data[feature]\n",
    "    x_train = S_train_data.drop(missing_columns,axis=1)\n",
    "\n",
    "    x_test = S_test_data.drop(missing_columns,axis=1)\n",
    "\n",
    "\n",
    "    log_reg = LogisticRegression(solver='newton-cg',random_state=0).fit(x_train, y_train)\n",
    "    \n",
    "    probs =log_reg.predict_proba(x_test) # get the list of probabilites of each class for each example to use as a sampling distribution\n",
    "    classes_range = range(1,train_data[feature].nunique()+1) \n",
    "    S_test_data[feature] = np.apply_along_axis(lambda x: np.random.choice(a=classes_range, size = 1, p=x), 1, probs) #for each row sample for the predicted probabilites and assign the class"
   ]
  },
  {
   "cell_type": "code",
   "execution_count": 42,
   "metadata": {},
   "outputs": [
    {
     "output_type": "execute_result",
     "data": {
      "text/plain": "       workclass  occupation  native.country       age  education.num  \\\n0            4.0         4.0            39.0  1.000000       0.533333   \n2            4.0         1.0            39.0  0.671233       0.600000   \n9            4.0         4.0            39.0  0.328767       0.600000   \n14           4.0        10.0            39.0  0.465753       1.000000   \n18           4.0        10.0            39.0  0.068493       0.733333   \n...          ...         ...             ...       ...            ...   \n32533        4.0        10.0            39.0  0.246575       0.800000   \n32534        4.0         4.0            39.0  0.178082       0.800000   \n32541        4.0        10.0            39.0  0.739726       1.000000   \n32543        4.0         8.0            39.0  0.328767       0.533333   \n32544        4.0         3.0            39.0  0.753425       0.533333   \n\n       capital.gain  capital.loss  hours.per.week  \\\n0               0.0      1.000000        0.397959   \n2               0.0      1.000000        0.397959   \n9               0.0      0.689624        0.602041   \n14              0.0      0.648301        0.397959   \n18              0.0      0.648301        0.397959   \n...             ...           ...             ...   \n32533           0.0      0.000000        0.551020   \n32534           0.0      0.000000        1.000000   \n32541           0.0      0.000000        0.091837   \n32543           0.0      0.000000        0.316327   \n32544           0.0      0.000000        0.244898   \n\n       marital.status_Married-AF-spouse  marital.status_Married-civ-spouse  \\\n0                                   0.0                                0.0   \n2                                   0.0                                0.0   \n9                                   0.0                                0.0   \n14                                  0.0                                0.0   \n18                                  0.0                                0.0   \n...                                 ...                                ...   \n32533                               0.0                                1.0   \n32534                               0.0                                0.0   \n32541                               0.0                                1.0   \n32543                               0.0                                0.0   \n32544                               0.0                                1.0   \n\n       ...  relationship_Other-relative  relationship_Own-child  \\\n0      ...                          0.0                     0.0   \n2      ...                          0.0                     0.0   \n9      ...                          0.0                     0.0   \n14     ...                          0.0                     0.0   \n18     ...                          0.0                     0.0   \n...    ...                          ...                     ...   \n32533  ...                          0.0                     0.0   \n32534  ...                          0.0                     0.0   \n32541  ...                          0.0                     0.0   \n32543  ...                          0.0                     0.0   \n32544  ...                          0.0                     0.0   \n\n       relationship_Unmarried  relationship_Wife  income_>50K  sex_Male  \\\n0                         0.0                0.0          0.0       0.0   \n2                         1.0                0.0          0.0       0.0   \n9                         1.0                0.0          1.0       1.0   \n14                        0.0                0.0          1.0       1.0   \n18                        0.0                0.0          1.0       1.0   \n...                       ...                ...          ...       ...   \n32533                     0.0                1.0          1.0       0.0   \n32534                     0.0                0.0          0.0       0.0   \n32541                     0.0                0.0          1.0       1.0   \n32543                     0.0                0.0          0.0       0.0   \n32544                     0.0                0.0          0.0       1.0   \n\n       race_Asian-Pac-Islander  race_Black  race_Other  race_White  \n0                          0.0         0.0         0.0         1.0  \n2                          0.0         1.0         0.0         0.0  \n9                          0.0         0.0         0.0         1.0  \n14                         0.0         0.0         0.0         1.0  \n18                         0.0         1.0         0.0         0.0  \n...                        ...         ...         ...         ...  \n32533                      0.0         0.0         0.0         1.0  \n32534                      1.0         0.0         0.0         0.0  \n32541                      0.0         0.0         0.0         1.0  \n32543                      0.0         1.0         0.0         0.0  \n32544                      0.0         0.0         0.0         1.0  \n\n[2399 rows x 25 columns]",
      "text/html": "<div>\n<style scoped>\n    .dataframe tbody tr th:only-of-type {\n        vertical-align: middle;\n    }\n\n    .dataframe tbody tr th {\n        vertical-align: top;\n    }\n\n    .dataframe thead th {\n        text-align: right;\n    }\n</style>\n<table border=\"1\" class=\"dataframe\">\n  <thead>\n    <tr style=\"text-align: right;\">\n      <th></th>\n      <th>workclass</th>\n      <th>occupation</th>\n      <th>native.country</th>\n      <th>age</th>\n      <th>education.num</th>\n      <th>capital.gain</th>\n      <th>capital.loss</th>\n      <th>hours.per.week</th>\n      <th>marital.status_Married-AF-spouse</th>\n      <th>marital.status_Married-civ-spouse</th>\n      <th>...</th>\n      <th>relationship_Other-relative</th>\n      <th>relationship_Own-child</th>\n      <th>relationship_Unmarried</th>\n      <th>relationship_Wife</th>\n      <th>income_&gt;50K</th>\n      <th>sex_Male</th>\n      <th>race_Asian-Pac-Islander</th>\n      <th>race_Black</th>\n      <th>race_Other</th>\n      <th>race_White</th>\n    </tr>\n  </thead>\n  <tbody>\n    <tr>\n      <th>0</th>\n      <td>4.0</td>\n      <td>4.0</td>\n      <td>39.0</td>\n      <td>1.000000</td>\n      <td>0.533333</td>\n      <td>0.0</td>\n      <td>1.000000</td>\n      <td>0.397959</td>\n      <td>0.0</td>\n      <td>0.0</td>\n      <td>...</td>\n      <td>0.0</td>\n      <td>0.0</td>\n      <td>0.0</td>\n      <td>0.0</td>\n      <td>0.0</td>\n      <td>0.0</td>\n      <td>0.0</td>\n      <td>0.0</td>\n      <td>0.0</td>\n      <td>1.0</td>\n    </tr>\n    <tr>\n      <th>2</th>\n      <td>4.0</td>\n      <td>1.0</td>\n      <td>39.0</td>\n      <td>0.671233</td>\n      <td>0.600000</td>\n      <td>0.0</td>\n      <td>1.000000</td>\n      <td>0.397959</td>\n      <td>0.0</td>\n      <td>0.0</td>\n      <td>...</td>\n      <td>0.0</td>\n      <td>0.0</td>\n      <td>1.0</td>\n      <td>0.0</td>\n      <td>0.0</td>\n      <td>0.0</td>\n      <td>0.0</td>\n      <td>1.0</td>\n      <td>0.0</td>\n      <td>0.0</td>\n    </tr>\n    <tr>\n      <th>9</th>\n      <td>4.0</td>\n      <td>4.0</td>\n      <td>39.0</td>\n      <td>0.328767</td>\n      <td>0.600000</td>\n      <td>0.0</td>\n      <td>0.689624</td>\n      <td>0.602041</td>\n      <td>0.0</td>\n      <td>0.0</td>\n      <td>...</td>\n      <td>0.0</td>\n      <td>0.0</td>\n      <td>1.0</td>\n      <td>0.0</td>\n      <td>1.0</td>\n      <td>1.0</td>\n      <td>0.0</td>\n      <td>0.0</td>\n      <td>0.0</td>\n      <td>1.0</td>\n    </tr>\n    <tr>\n      <th>14</th>\n      <td>4.0</td>\n      <td>10.0</td>\n      <td>39.0</td>\n      <td>0.465753</td>\n      <td>1.000000</td>\n      <td>0.0</td>\n      <td>0.648301</td>\n      <td>0.397959</td>\n      <td>0.0</td>\n      <td>0.0</td>\n      <td>...</td>\n      <td>0.0</td>\n      <td>0.0</td>\n      <td>0.0</td>\n      <td>0.0</td>\n      <td>1.0</td>\n      <td>1.0</td>\n      <td>0.0</td>\n      <td>0.0</td>\n      <td>0.0</td>\n      <td>1.0</td>\n    </tr>\n    <tr>\n      <th>18</th>\n      <td>4.0</td>\n      <td>10.0</td>\n      <td>39.0</td>\n      <td>0.068493</td>\n      <td>0.733333</td>\n      <td>0.0</td>\n      <td>0.648301</td>\n      <td>0.397959</td>\n      <td>0.0</td>\n      <td>0.0</td>\n      <td>...</td>\n      <td>0.0</td>\n      <td>0.0</td>\n      <td>0.0</td>\n      <td>0.0</td>\n      <td>1.0</td>\n      <td>1.0</td>\n      <td>0.0</td>\n      <td>1.0</td>\n      <td>0.0</td>\n      <td>0.0</td>\n    </tr>\n    <tr>\n      <th>...</th>\n      <td>...</td>\n      <td>...</td>\n      <td>...</td>\n      <td>...</td>\n      <td>...</td>\n      <td>...</td>\n      <td>...</td>\n      <td>...</td>\n      <td>...</td>\n      <td>...</td>\n      <td>...</td>\n      <td>...</td>\n      <td>...</td>\n      <td>...</td>\n      <td>...</td>\n      <td>...</td>\n      <td>...</td>\n      <td>...</td>\n      <td>...</td>\n      <td>...</td>\n      <td>...</td>\n    </tr>\n    <tr>\n      <th>32533</th>\n      <td>4.0</td>\n      <td>10.0</td>\n      <td>39.0</td>\n      <td>0.246575</td>\n      <td>0.800000</td>\n      <td>0.0</td>\n      <td>0.000000</td>\n      <td>0.551020</td>\n      <td>0.0</td>\n      <td>1.0</td>\n      <td>...</td>\n      <td>0.0</td>\n      <td>0.0</td>\n      <td>0.0</td>\n      <td>1.0</td>\n      <td>1.0</td>\n      <td>0.0</td>\n      <td>0.0</td>\n      <td>0.0</td>\n      <td>0.0</td>\n      <td>1.0</td>\n    </tr>\n    <tr>\n      <th>32534</th>\n      <td>4.0</td>\n      <td>4.0</td>\n      <td>39.0</td>\n      <td>0.178082</td>\n      <td>0.800000</td>\n      <td>0.0</td>\n      <td>0.000000</td>\n      <td>1.000000</td>\n      <td>0.0</td>\n      <td>0.0</td>\n      <td>...</td>\n      <td>0.0</td>\n      <td>0.0</td>\n      <td>0.0</td>\n      <td>0.0</td>\n      <td>0.0</td>\n      <td>0.0</td>\n      <td>1.0</td>\n      <td>0.0</td>\n      <td>0.0</td>\n      <td>0.0</td>\n    </tr>\n    <tr>\n      <th>32541</th>\n      <td>4.0</td>\n      <td>10.0</td>\n      <td>39.0</td>\n      <td>0.739726</td>\n      <td>1.000000</td>\n      <td>0.0</td>\n      <td>0.000000</td>\n      <td>0.091837</td>\n      <td>0.0</td>\n      <td>1.0</td>\n      <td>...</td>\n      <td>0.0</td>\n      <td>0.0</td>\n      <td>0.0</td>\n      <td>0.0</td>\n      <td>1.0</td>\n      <td>1.0</td>\n      <td>0.0</td>\n      <td>0.0</td>\n      <td>0.0</td>\n      <td>1.0</td>\n    </tr>\n    <tr>\n      <th>32543</th>\n      <td>4.0</td>\n      <td>8.0</td>\n      <td>39.0</td>\n      <td>0.328767</td>\n      <td>0.533333</td>\n      <td>0.0</td>\n      <td>0.000000</td>\n      <td>0.316327</td>\n      <td>0.0</td>\n      <td>0.0</td>\n      <td>...</td>\n      <td>0.0</td>\n      <td>0.0</td>\n      <td>0.0</td>\n      <td>0.0</td>\n      <td>0.0</td>\n      <td>0.0</td>\n      <td>0.0</td>\n      <td>1.0</td>\n      <td>0.0</td>\n      <td>0.0</td>\n    </tr>\n    <tr>\n      <th>32544</th>\n      <td>4.0</td>\n      <td>3.0</td>\n      <td>39.0</td>\n      <td>0.753425</td>\n      <td>0.533333</td>\n      <td>0.0</td>\n      <td>0.000000</td>\n      <td>0.244898</td>\n      <td>0.0</td>\n      <td>1.0</td>\n      <td>...</td>\n      <td>0.0</td>\n      <td>0.0</td>\n      <td>0.0</td>\n      <td>0.0</td>\n      <td>0.0</td>\n      <td>1.0</td>\n      <td>0.0</td>\n      <td>0.0</td>\n      <td>0.0</td>\n      <td>1.0</td>\n    </tr>\n  </tbody>\n</table>\n<p>2399 rows × 25 columns</p>\n</div>"
     },
     "metadata": {},
     "execution_count": 42
    }
   ],
   "source": [
    "test_data"
   ]
  },
  {
   "cell_type": "code",
   "execution_count": 43,
   "metadata": {},
   "outputs": [],
   "source": [
    "reg_data = pd.concat([train_data,test_data])"
   ]
  },
  {
   "cell_type": "code",
   "execution_count": 44,
   "metadata": {},
   "outputs": [],
   "source": [
    "S_reg_data = pd.concat([train_data, S_test_data])"
   ]
  },
  {
   "cell_type": "markdown",
   "metadata": {},
   "source": [
    "## Test/Train Split "
   ]
  },
  {
   "cell_type": "markdown",
   "metadata": {},
   "source": [
    "Create a dictionary of datasets for each imputaion method"
   ]
  },
  {
   "cell_type": "code",
   "execution_count": 45,
   "metadata": {},
   "outputs": [],
   "source": [
    "imputation_sets = [mean_data, CD_data, reg_data, S_reg_data]\n",
    "name_sets = ['M', 'CD', 'DR', 'SR']"
   ]
  },
  {
   "cell_type": "code",
   "execution_count": 46,
   "metadata": {},
   "outputs": [],
   "source": [
    "cleaned_data = {}\n",
    "for imp in zip(imputation_sets,name_sets):\n",
    "    X, y = imp[0][imp[0].columns[imp[0].columns != 'income_>50K']], imp[0]['income_>50K']\n",
    "    X_train, X_test, y_train, y_test = train_test_split(X, y, test_size=0.2, random_state=42)\n",
    "    cleaned_data[imp[1]] = [X_train, X_test, y_train, y_test]"
   ]
  },
  {
   "cell_type": "markdown",
   "metadata": {},
   "source": [
    "## Decision Tree"
   ]
  },
  {
   "cell_type": "code",
   "execution_count": 47,
   "metadata": {},
   "outputs": [],
   "source": [
    "cv = StratifiedKFold(2, shuffle=True, random_state=42)"
   ]
  },
  {
   "cell_type": "code",
   "execution_count": 48,
   "metadata": {
    "tags": []
   },
   "outputs": [
    {
     "output_type": "stream",
     "name": "stdout",
     "text": "M|Accuracy|0.8009|P-value|0.0323\nCD|Accuracy|0.8002|P-value|0.0323\nDR|Accuracy|0.8025|P-value|0.0323\nSR|Accuracy|0.8021|P-value|0.0323\n"
    }
   ],
   "source": [
    "for dataset in name_sets:\n",
    "    tree = DecisionTreeClassifier()\n",
    "    tree.fit(cleaned_data[dataset][0], cleaned_data[dataset][2])\n",
    "    score, perm_scores, pvalue= permutation_test_score(tree, cleaned_data[dataset][1],cleaned_data[dataset][3], cv=cv, n_permutations=30)\n",
    "    print('{}|{}|{}|{}|{}'.format(dataset,'Accuracy',round(score,4), 'P-value',round(pvalue,4)))"
   ]
  },
  {
   "cell_type": "markdown",
   "metadata": {},
   "source": [
    "## Random Forest"
   ]
  },
  {
   "cell_type": "code",
   "execution_count": 49,
   "metadata": {
    "tags": []
   },
   "outputs": [
    {
     "output_type": "stream",
     "name": "stdout",
     "text": "Accuracy|0.8482|P-value|0.0323\nAccuracy|0.8477|P-value|0.0323\nAccuracy|0.8406|P-value|0.0323\nAccuracy|0.8409|P-value|0.0323\n"
    }
   ],
   "source": [
    "for dataset in name_sets:\n",
    "    forest = RandomForestClassifier()\n",
    "    forest.fit(cleaned_data[dataset][0], cleaned_data[dataset][2])\n",
    "    score, perm_scores, pvalue= permutation_test_score(forest, cleaned_data[dataset][1],cleaned_data[dataset][3], cv=cv, n_permutations=30)\n",
    "    print('{}|{}|{}|{}'.format('Accuracy',round(score,4), 'P-value',round(pvalue,4)))"
   ]
  },
  {
   "cell_type": "markdown",
   "metadata": {},
   "source": [
    "## Naive Bayes: Gaussian"
   ]
  },
  {
   "cell_type": "code",
   "execution_count": 51,
   "metadata": {
    "tags": []
   },
   "outputs": [
    {
     "output_type": "stream",
     "name": "stdout",
     "text": "Accuracy|0.6771|P-value|0.1613\nAccuracy|0.6771|P-value|0.1613\nAccuracy|0.688|P-value|0.1935\nAccuracy|0.6885|P-value|0.2258\n"
    }
   ],
   "source": [
    "for dataset in name_sets:\n",
    "    NBG = GaussianNB()\n",
    "    NBG.fit(cleaned_data[dataset][0], cleaned_data[dataset][2])\n",
    "    score, perm_scores, pvalue= permutation_test_score(NBG, cleaned_data[dataset][1],cleaned_data[dataset][3], cv=cv, n_permutations=30)\n",
    "    print('{}|{}|{}|{}'.format('Accuracy',round(score,4), 'P-value',round(pvalue,4)))"
   ]
  },
  {
   "cell_type": "markdown",
   "metadata": {},
   "source": [
    "## Naive Bayes: Multinomial"
   ]
  },
  {
   "cell_type": "code",
   "execution_count": 52,
   "metadata": {
    "tags": []
   },
   "outputs": [
    {
     "output_type": "stream",
     "name": "stdout",
     "text": "Accuracy|0.7199|P-value|1.0\nAccuracy|0.7198|P-value|1.0\nAccuracy|0.7577|P-value|1.0\nAccuracy|0.7536|P-value|1.0\n"
    }
   ],
   "source": [
    "for dataset in name_sets:\n",
    "    NBM = MultinomialNB()\n",
    "    NBM.fit(cleaned_data[dataset][0], cleaned_data[dataset][2])\n",
    "    score, perm_scores, pvalue= permutation_test_score(NBM, cleaned_data[dataset][1],cleaned_data[dataset][3], cv=cv, n_permutations=30)\n",
    "    print('{}|{}|{}|{}'.format('Accuracy',round(score,4), 'P-value',round(pvalue,4)))"
   ]
  },
  {
   "cell_type": "markdown",
   "metadata": {},
   "source": [
    "## Baysian Networks"
   ]
  },
  {
   "cell_type": "markdown",
   "metadata": {},
   "source": [
    "Because of the computational difficulty of finding baysian network structures I have only implemented it for a single imputation method. Even so running predictions can only be perfomered on small sub samples and so accuracy can only be determined from this sampling.\n",
    "\n",
    "A full implementation for all datasets would simply involved putting the proceeding code in a loop as in the above classifers. To make the code runnable this has not been done as terminataion time could be very long and uncheckable depending on systems. "
   ]
  },
  {
   "cell_type": "code",
   "execution_count": 57,
   "metadata": {},
   "outputs": [],
   "source": [
    "full_data = pd.concat([cleaned_data['M'][0],cleaned_data['M'][2]],axis=1)"
   ]
  },
  {
   "cell_type": "markdown",
   "metadata": {},
   "source": [
    "Use Hillclimbmethod to create a network structure"
   ]
  },
  {
   "cell_type": "code",
   "execution_count": 59,
   "metadata": {
    "tags": []
   },
   "outputs": [
    {
     "output_type": "stream",
     "name": "stderr",
     "text": "7%|▋         | 68/1000 [00:25<05:49,  2.67it/s]\n"
    }
   ],
   "source": [
    "scoring_method = K2Score(data=full_data)\n",
    "est = HillClimbSearch(data=full_data)\n",
    "estimated_model = est.estimate(scoring_method=scoring_method, max_indegree=4, max_iter=int(1e3))"
   ]
  },
  {
   "cell_type": "code",
   "execution_count": 61,
   "metadata": {},
   "outputs": [
    {
     "output_type": "execute_result",
     "data": {
      "text/plain": "OutEdgeView([('age', 'marital.status_Never-married'), ('age', 'income_>50K'), ('education.num', 'occupation'), ('occupation', 'workclass'), ('hours.per.week', 'relationship_Own-child'), ('native.country', 'race_Asian-Pac-Islander'), ('native.country', 'education.num'), ('native.country', 'race_Black'), ('marital.status_Married-AF-spouse', 'relationship_Wife'), ('marital.status_Married-AF-spouse', 'income_>50K'), ('marital.status_Married-civ-spouse', 'relationship_Not-in-family'), ('marital.status_Married-civ-spouse', 'income_>50K'), ('marital.status_Married-civ-spouse', 'sex_Male'), ('marital.status_Married-civ-spouse', 'relationship_Wife'), ('marital.status_Married-civ-spouse', 'capital.gain'), ('marital.status_Married-civ-spouse', 'marital.status_Married-spouse-absent'), ('marital.status_Married-civ-spouse', 'race_Black'), ('marital.status_Married-civ-spouse', 'marital.status_Married-AF-spouse'), ('marital.status_Married-spouse-absent', 'race_Other'), ('marital.status_Never-married', 'marital.status_Married-civ-spouse'), ('marital.status_Never-married', 'marital.status_Separated'), ('marital.status_Never-married', 'marital.status_Married-spouse-absent'), ('marital.status_Never-married', 'education.num'), ('marital.status_Never-married', 'marital.status_Married-AF-spouse'), ('marital.status_Separated', 'marital.status_Married-civ-spouse'), ('marital.status_Separated', 'relationship_Unmarried'), ('marital.status_Separated', 'marital.status_Married-spouse-absent'), ('marital.status_Separated', 'race_Black'), ('marital.status_Widowed', 'marital.status_Married-civ-spouse'), ('marital.status_Widowed', 'age'), ('marital.status_Widowed', 'relationship_Unmarried'), ('marital.status_Widowed', 'sex_Male'), ('marital.status_Widowed', 'marital.status_Married-spouse-absent'), ('marital.status_Widowed', 'marital.status_Separated'), ('relationship_Other-relative', 'relationship_Not-in-family'), ('relationship_Other-relative', 'age'), ('relationship_Other-relative', 'relationship_Unmarried'), ('relationship_Other-relative', 'marital.status_Never-married'), ('relationship_Other-relative', 'native.country'), ('relationship_Other-relative', 'marital.status_Separated'), ('relationship_Other-relative', 'race_Other'), ('relationship_Own-child', 'age'), ('relationship_Own-child', 'relationship_Not-in-family'), ('relationship_Own-child', 'marital.status_Never-married'), ('relationship_Own-child', 'relationship_Unmarried'), ('relationship_Own-child', 'education.num'), ('relationship_Own-child', 'relationship_Other-relative'), ('relationship_Own-child', 'marital.status_Widowed'), ('relationship_Own-child', 'marital.status_Separated'), ('relationship_Own-child', 'occupation'), ('relationship_Unmarried', 'relationship_Not-in-family'), ('relationship_Unmarried', 'marital.status_Married-civ-spouse'), ('relationship_Unmarried', 'sex_Male'), ('relationship_Unmarried', 'race_Black'), ('relationship_Wife', 'sex_Male'), ('sex_Male', 'occupation'), ('race_Asian-Pac-Islander', 'race_White'), ('race_Black', 'race_White'), ('race_Black', 'race_Asian-Pac-Islander'), ('race_Other', 'race_White'), ('race_Other', 'native.country'), ('race_White', 'relationship_Wife'), ('income_>50K', 'education.num'), ('income_>50K', 'capital.gain'), ('income_>50K', 'capital.loss'), ('income_>50K', 'occupation'), ('income_>50K', 'workclass'), ('income_>50K', 'race_Other')])"
     },
     "metadata": {},
     "execution_count": 61
    }
   ],
   "source": [
    "estimated_model.edges()"
   ]
  },
  {
   "cell_type": "code",
   "execution_count": 62,
   "metadata": {},
   "outputs": [],
   "source": [
    "model = BayesianNetwork(estimated_model.edges())\n",
    "model.fit(full_data)"
   ]
  },
  {
   "cell_type": "code",
   "execution_count": 65,
   "metadata": {
    "tags": []
   },
   "outputs": [
    {
     "output_type": "stream",
     "name": "stderr",
     "text": "\n  0%|          | 0/150 [00:00<?, ?it/s]\u001b[A\n  5%|▌         | 8/150 [00:00<00:07, 18.45it/s]\u001b[A\n 11%|█         | 16/150 [00:06<01:06,  2.02it/s]\u001b[A\n 16%|█▌        | 24/150 [00:08<00:42,  2.97it/s]\u001b[A\n 21%|██▏       | 32/150 [00:09<00:30,  3.86it/s]\u001b[A\n 27%|██▋       | 40/150 [00:10<00:23,  4.73it/s]\u001b[A\n 32%|███▏      | 48/150 [00:11<00:18,  5.51it/s]\u001b[A\n 37%|███▋      | 56/150 [00:12<00:15,  5.96it/s]\u001b[A\n 43%|████▎     | 64/150 [00:13<00:13,  6.34it/s]\u001b[A\n 48%|████▊     | 72/150 [00:14<00:11,  6.88it/s]\u001b[A\n 53%|█████▎    | 80/150 [00:15<00:10,  6.83it/s]\u001b[A\n 59%|█████▊    | 88/150 [00:16<00:08,  6.92it/s]\u001b[A\n 64%|██████▍   | 96/150 [00:17<00:07,  7.33it/s]\u001b[A\n 69%|██████▉   | 104/150 [00:19<00:07,  6.51it/s]\u001b[A\n 75%|███████▍  | 112/150 [00:20<00:05,  6.55it/s]\u001b[A\n 80%|████████  | 120/150 [00:21<00:04,  6.47it/s]\u001b[A\n 85%|████████▌ | 128/150 [00:22<00:03,  6.51it/s]\u001b[A\n 91%|█████████ | 136/150 [00:24<00:02,  6.51it/s]\u001b[A\n100%|██████████| 150/150 [00:25<00:00,  5.94it/s]\n"
    }
   ],
   "source": [
    "#single batch of 200 as larger batching fails\n",
    "sample = cleaned_data['M'][1].sample(150)\n",
    "y_pred = model.predict(sample)"
   ]
  },
  {
   "cell_type": "code",
   "execution_count": 68,
   "metadata": {},
   "outputs": [
    {
     "output_type": "execute_result",
     "data": {
      "text/plain": "0.8666666666666667"
     },
     "metadata": {},
     "execution_count": 68
    }
   ],
   "source": [
    "#single sample accuracy\n",
    "accuracy_score(cleaned_data['M'][3][sample.index],y_pred)"
   ]
  },
  {
   "cell_type": "markdown",
   "metadata": {},
   "source": [
    "### Comments on Classifers"
   ]
  },
  {
   "cell_type": "markdown",
   "metadata": {},
   "source": [
    "Based on the results above it is clear to see that the decision tree based classifiers perform better over all with decision trees averaging around 80% accuracy and Random Forrest around 84%. Both also had significant P-values of 0.03 which is significant. The trade off with both being they were much slower to run than the naive bayes classifers, in particular Random forrest was notciable slower than all the other classifers bar Baysian Network (Discussed below).\n",
    "\n",
    "The gaussian and multinomial Naive Bayes preform noticably poorer. With Gaussian getting around 68% accruacy and P-value of 0.3 and multinomial getting a accuracy of 74% with a P-value of 1.(This P-value would appear to be a mistake and is probably due to some internal workings of the \"Permutation_test_score\" function that needs further exploration).\n",
    "\n",
    "The Baysian Network was the most difficult classifers to work with and the slowest due to the need to build the network structed and fit parameters to the model. Due to this is and the limitations of my own hardware I was unable to get more than one data set to run using the Baysian network and even then I was only able to predict samples of at most 200 rows at a time.(These samples still took minutes to run and often still failed). Due to this issue I decided not to run more tests on the other datasets. On the small samples run it did appear to have the highest accruacy at 86% but because of the small sample size this is very inconclusive and should be disregarded.\n",
    "\n",
    "Based on this data I think the strongest classifers is the Random Forrest as it provides the best accruacy, the model has a low value and while it is slower than the others it is not so slow as to be unusable like the Baysian Network."
   ]
  },
  {
   "cell_type": "markdown",
   "metadata": {},
   "source": [
    "### Comments on Imputation Methods"
   ]
  },
  {
   "cell_type": "markdown",
   "metadata": {},
   "source": [
    "The quality and improvement the imputation had seemed to depend on the classifer being used. The type of impuation used had little impact on the performance of the decsion tree classifers with accuracy and P-values being approximatley the same for all types of imputation. \n",
    "\n",
    "There was noticable improvment when using the regression imputations on the accuracy of the predictors from approx. 72% to 76% in the case of the multinomial and 68% to 69% for the Gaussian. This did however also increase the size of the P-value for the Guassian from around 0.16 to 0.19 for detemenistic and 0.22 for stochastic imputation.(P-value for multinomial was 1 for all impuations). \n",
    "\n",
    "The accuracy of the Baysian Network was only tested on the mean imputed data but seemed to perform well on it. (again sample size is small so should be disregarded.)\n",
    "\n",
    "For this data set as there is actaully rather small number of missing values and those that do have missing values are mostly categorical. I would recommend using mean imputation (Most frequent for categorical) as it is the fastest and easiest to achieve if using the tree classifers. That being said if having to use a Baysian classifer then using a detemenistic logistic regressor does appear to provide noticable improvement on the performance of the classifer while being relativly easy to compute. \n"
   ]
  }
 ]
}